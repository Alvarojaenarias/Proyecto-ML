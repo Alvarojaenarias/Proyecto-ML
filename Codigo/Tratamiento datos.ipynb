{
 "cells": [
  {
   "cell_type": "code",
   "execution_count": 4,
   "metadata": {},
   "outputs": [],
   "source": [
    "import pandas as pd\n",
    "import numpy as np\n",
    "import matplotlib.pyplot as plt\n",
    "import seaborn as sns\n",
    "from sklearn.model_selection import train_test_split\n",
    "from sklearn.preprocessing import StandardScaler\n",
    "from sklearn.linear_model import LogisticRegression\n",
    "from sklearn.linear_model import LinearRegression\n",
    "from sklearn.tree import DecisionTreeRegressor\n",
    "from sklearn.metrics import confusion_matrix, accuracy_score, precision_score, recall_score, f1_score, roc_auc_score\n",
    "from sklearn.model_selection import GridSearchCV\n",
    "from sklearn.preprocessing import StandardScaler\n",
    "from sklearn.ensemble import RandomForestClassifier\n",
    "from sklearn.linear_model import LogisticRegression\n",
    "from sklearn.svm import SVC\n",
    "from sklearn.model_selection import GridSearchCV, train_test_split\n",
    "from sklearn.tree import DecisionTreeClassifier\n",
    "from sklearn.ensemble import VotingClassifier\n",
    "from sklearn.ensemble import BaggingClassifier\n",
    "from sklearn.ensemble import AdaBoostClassifier\n",
    "from sklearn.ensemble import GradientBoostingClassifier\n",
    "from xgboost import XGBClassifier\n",
    "from sklearn.linear_model import Ridge\n",
    "from sklearn.linear_model import Lasso\n",
    "from sklearn.linear_model import ElasticNet\n",
    "from sklearn.tree import DecisionTreeRegressor\n",
    "from sklearn.metrics import r2_score\n",
    "from sklearn.ensemble import GradientBoostingRegressor\n",
    "import pickle\n",
    "from sklearn.utils import shuffle\n",
    "import joblib  \n",
    "\n",
    "from sklearn.model_selection import cross_val_score\n",
    "import matplotlib as mpl\n",
    "import matplotlib.pyplot as plt\n",
    "mpl.rc('axes', labelsize=14)\n",
    "mpl.rc('xtick', labelsize=12)\n",
    "mpl.rc('ytick', labelsize=12)\n",
    "\n",
    "\n",
    "import warnings\n",
    "warnings.filterwarnings(\"ignore\")\n",
    "warnings.filterwarnings(action=\"ignore\",category=DeprecationWarning)\n",
    "warnings.filterwarnings(action=\"ignore\",category=FutureWarning)\n",
    "\n",
    "\n",
    "%matplotlib inline\n",
    "sns.set_style('whitegrid')\n",
    "plt.style.use(\"fivethirtyeight\")"
   ]
  },
  {
   "cell_type": "code",
   "execution_count": 5,
   "metadata": {},
   "outputs": [
    {
     "data": {
      "text/html": [
       "<div>\n",
       "<style scoped>\n",
       "    .dataframe tbody tr th:only-of-type {\n",
       "        vertical-align: middle;\n",
       "    }\n",
       "\n",
       "    .dataframe tbody tr th {\n",
       "        vertical-align: top;\n",
       "    }\n",
       "\n",
       "    .dataframe thead th {\n",
       "        text-align: right;\n",
       "    }\n",
       "</style>\n",
       "<table border=\"1\" class=\"dataframe\">\n",
       "  <thead>\n",
       "    <tr style=\"text-align: right;\">\n",
       "      <th></th>\n",
       "      <th>Game</th>\n",
       "      <th>Month</th>\n",
       "      <th>Year</th>\n",
       "      <th>Hours_watched</th>\n",
       "      <th>Hours_Streamed</th>\n",
       "      <th>Peak_viewers</th>\n",
       "      <th>Peak_channels</th>\n",
       "      <th>Streamers</th>\n",
       "      <th>Avg_viewers</th>\n",
       "      <th>Avg_channels</th>\n",
       "    </tr>\n",
       "  </thead>\n",
       "  <tbody>\n",
       "    <tr>\n",
       "      <th>0</th>\n",
       "      <td>League of Legends</td>\n",
       "      <td>1</td>\n",
       "      <td>2016</td>\n",
       "      <td>94377226</td>\n",
       "      <td>1362044 hours</td>\n",
       "      <td>530270</td>\n",
       "      <td>2903</td>\n",
       "      <td>129172</td>\n",
       "      <td>127021</td>\n",
       "      <td>1833</td>\n",
       "    </tr>\n",
       "    <tr>\n",
       "      <th>1</th>\n",
       "      <td>Counter-Strike: Global Offensive</td>\n",
       "      <td>1</td>\n",
       "      <td>2016</td>\n",
       "      <td>47832863</td>\n",
       "      <td>830105 hours</td>\n",
       "      <td>372654</td>\n",
       "      <td>2197</td>\n",
       "      <td>120849</td>\n",
       "      <td>64378</td>\n",
       "      <td>1117</td>\n",
       "    </tr>\n",
       "    <tr>\n",
       "      <th>2</th>\n",
       "      <td>Dota 2</td>\n",
       "      <td>1</td>\n",
       "      <td>2016</td>\n",
       "      <td>45185893</td>\n",
       "      <td>433397 hours</td>\n",
       "      <td>315083</td>\n",
       "      <td>1100</td>\n",
       "      <td>44074</td>\n",
       "      <td>60815</td>\n",
       "      <td>583</td>\n",
       "    </tr>\n",
       "    <tr>\n",
       "      <th>3</th>\n",
       "      <td>Hearthstone</td>\n",
       "      <td>1</td>\n",
       "      <td>2016</td>\n",
       "      <td>39936159</td>\n",
       "      <td>235903 hours</td>\n",
       "      <td>131357</td>\n",
       "      <td>517</td>\n",
       "      <td>36170</td>\n",
       "      <td>53749</td>\n",
       "      <td>317</td>\n",
       "    </tr>\n",
       "    <tr>\n",
       "      <th>4</th>\n",
       "      <td>Call of Duty: Black Ops III</td>\n",
       "      <td>1</td>\n",
       "      <td>2016</td>\n",
       "      <td>16153057</td>\n",
       "      <td>1151578 hours</td>\n",
       "      <td>71639</td>\n",
       "      <td>3620</td>\n",
       "      <td>214054</td>\n",
       "      <td>21740</td>\n",
       "      <td>1549</td>\n",
       "    </tr>\n",
       "    <tr>\n",
       "      <th>...</th>\n",
       "      <td>...</td>\n",
       "      <td>...</td>\n",
       "      <td>...</td>\n",
       "      <td>...</td>\n",
       "      <td>...</td>\n",
       "      <td>...</td>\n",
       "      <td>...</td>\n",
       "      <td>...</td>\n",
       "      <td>...</td>\n",
       "      <td>...</td>\n",
       "    </tr>\n",
       "    <tr>\n",
       "      <th>16995</th>\n",
       "      <td>Tom Clancy's The Division 2</td>\n",
       "      <td>1</td>\n",
       "      <td>2023</td>\n",
       "      <td>666943(118.3%)</td>\n",
       "      <td>97138(59.5%)</td>\n",
       "      <td>2759(49.9%)</td>\n",
       "      <td>249(48.2%)</td>\n",
       "      <td>12805(68.1%)</td>\n",
       "      <td>897(118.2%)</td>\n",
       "      <td>130(60.5%)</td>\n",
       "    </tr>\n",
       "    <tr>\n",
       "      <th>16996</th>\n",
       "      <td>Persona 5 Royal</td>\n",
       "      <td>1</td>\n",
       "      <td>2023</td>\n",
       "      <td>664503(-2.9%)</td>\n",
       "      <td>68310(2.7%)</td>\n",
       "      <td>10494(19.6%)</td>\n",
       "      <td>198(4.8%)</td>\n",
       "      <td>7475(4.8%)</td>\n",
       "      <td>894(-2.9%)</td>\n",
       "      <td>91(2.2%)</td>\n",
       "    </tr>\n",
       "    <tr>\n",
       "      <th>16997</th>\n",
       "      <td>Bloodborne</td>\n",
       "      <td>1</td>\n",
       "      <td>2023</td>\n",
       "      <td>663078(59.1%)</td>\n",
       "      <td>45522(31.8%)</td>\n",
       "      <td>9455(30.4%)</td>\n",
       "      <td>117(8.3%)</td>\n",
       "      <td>8355(27.5%)</td>\n",
       "      <td>892(59.3%)</td>\n",
       "      <td>61(32.6%)</td>\n",
       "    </tr>\n",
       "    <tr>\n",
       "      <th>16998</th>\n",
       "      <td>PowerWash Simulator</td>\n",
       "      <td>1</td>\n",
       "      <td>2023</td>\n",
       "      <td>657644(356.0%)</td>\n",
       "      <td>18494(53.7%)</td>\n",
       "      <td>63757(473.9%)</td>\n",
       "      <td>192(346.5%)</td>\n",
       "      <td>6589(42.3%)</td>\n",
       "      <td>885(356.2%)</td>\n",
       "      <td>24(50%)</td>\n",
       "    </tr>\n",
       "    <tr>\n",
       "      <th>16999</th>\n",
       "      <td>Eternal Return</td>\n",
       "      <td>1</td>\n",
       "      <td>2023</td>\n",
       "      <td>642217(2.4%)</td>\n",
       "      <td>24245(7.7%)</td>\n",
       "      <td>9933(16.7%)</td>\n",
       "      <td>97(15.5%)</td>\n",
       "      <td>1997(6.2%)</td>\n",
       "      <td>864(2.5%)</td>\n",
       "      <td>32(6.7%)</td>\n",
       "    </tr>\n",
       "  </tbody>\n",
       "</table>\n",
       "<p>17000 rows × 10 columns</p>\n",
       "</div>"
      ],
      "text/plain": [
       "                                   Game  Month  Year   Hours_watched  \\\n",
       "0                     League of Legends      1  2016        94377226   \n",
       "1      Counter-Strike: Global Offensive      1  2016        47832863   \n",
       "2                                Dota 2      1  2016        45185893   \n",
       "3                           Hearthstone      1  2016        39936159   \n",
       "4           Call of Duty: Black Ops III      1  2016        16153057   \n",
       "...                                 ...    ...   ...             ...   \n",
       "16995       Tom Clancy's The Division 2      1  2023  666943(118.3%)   \n",
       "16996                   Persona 5 Royal      1  2023   664503(-2.9%)   \n",
       "16997                        Bloodborne      1  2023   663078(59.1%)   \n",
       "16998               PowerWash Simulator      1  2023  657644(356.0%)   \n",
       "16999                    Eternal Return      1  2023    642217(2.4%)   \n",
       "\n",
       "      Hours_Streamed   Peak_viewers Peak_channels     Streamers  Avg_viewers  \\\n",
       "0      1362044 hours         530270          2903        129172       127021   \n",
       "1       830105 hours         372654          2197        120849        64378   \n",
       "2       433397 hours         315083          1100         44074        60815   \n",
       "3       235903 hours         131357           517         36170        53749   \n",
       "4      1151578 hours          71639          3620        214054        21740   \n",
       "...              ...            ...           ...           ...          ...   \n",
       "16995   97138(59.5%)    2759(49.9%)    249(48.2%)  12805(68.1%)  897(118.2%)   \n",
       "16996    68310(2.7%)   10494(19.6%)     198(4.8%)    7475(4.8%)   894(-2.9%)   \n",
       "16997   45522(31.8%)    9455(30.4%)     117(8.3%)   8355(27.5%)   892(59.3%)   \n",
       "16998   18494(53.7%)  63757(473.9%)   192(346.5%)   6589(42.3%)  885(356.2%)   \n",
       "16999    24245(7.7%)    9933(16.7%)     97(15.5%)    1997(6.2%)    864(2.5%)   \n",
       "\n",
       "      Avg_channels  \n",
       "0             1833  \n",
       "1             1117  \n",
       "2              583  \n",
       "3              317  \n",
       "4             1549  \n",
       "...            ...  \n",
       "16995   130(60.5%)  \n",
       "16996     91(2.2%)  \n",
       "16997    61(32.6%)  \n",
       "16998      24(50%)  \n",
       "16999     32(6.7%)  \n",
       "\n",
       "[17000 rows x 10 columns]"
      ]
     },
     "execution_count": 5,
     "metadata": {},
     "output_type": "execute_result"
    }
   ],
   "source": [
    "#IMPORTAMOS DATASET\n",
    "total= pd.read_csv(\"Twitch_game_data.csv\", sep=\",\", encoding=\"'cp1252'\")\n",
    "# elimino la columna \"Avg_viewer_ratio\" porque es la división entre Avg.viewers y Avg.channels\n",
    "total=total.drop([\"Avg_viewer_ratio\", \"Rank\"], axis=1)  \n",
    "total"
   ]
  },
  {
   "cell_type": "code",
   "execution_count": 6,
   "metadata": {},
   "outputs": [
    {
     "data": {
      "text/html": [
       "<div>\n",
       "<style scoped>\n",
       "    .dataframe tbody tr th:only-of-type {\n",
       "        vertical-align: middle;\n",
       "    }\n",
       "\n",
       "    .dataframe tbody tr th {\n",
       "        vertical-align: top;\n",
       "    }\n",
       "\n",
       "    .dataframe thead th {\n",
       "        text-align: right;\n",
       "    }\n",
       "</style>\n",
       "<table border=\"1\" class=\"dataframe\">\n",
       "  <thead>\n",
       "    <tr style=\"text-align: right;\">\n",
       "      <th></th>\n",
       "      <th>Game</th>\n",
       "      <th>Month</th>\n",
       "      <th>Year</th>\n",
       "      <th>Hours_watched</th>\n",
       "      <th>Hours_Streamed</th>\n",
       "      <th>Peak_viewers</th>\n",
       "      <th>Peak_channels</th>\n",
       "      <th>Streamers</th>\n",
       "      <th>Avg_viewers</th>\n",
       "      <th>Avg_channels</th>\n",
       "    </tr>\n",
       "  </thead>\n",
       "  <tbody>\n",
       "    <tr>\n",
       "      <th>0</th>\n",
       "      <td>League of Legends</td>\n",
       "      <td>1</td>\n",
       "      <td>2016</td>\n",
       "      <td>94377226</td>\n",
       "      <td>1362044</td>\n",
       "      <td>530270</td>\n",
       "      <td>2903</td>\n",
       "      <td>129172</td>\n",
       "      <td>127021</td>\n",
       "      <td>1833</td>\n",
       "    </tr>\n",
       "    <tr>\n",
       "      <th>1</th>\n",
       "      <td>Counter-Strike: Global Offensive</td>\n",
       "      <td>1</td>\n",
       "      <td>2016</td>\n",
       "      <td>47832863</td>\n",
       "      <td>830105</td>\n",
       "      <td>372654</td>\n",
       "      <td>2197</td>\n",
       "      <td>120849</td>\n",
       "      <td>64378</td>\n",
       "      <td>1117</td>\n",
       "    </tr>\n",
       "    <tr>\n",
       "      <th>2</th>\n",
       "      <td>Dota 2</td>\n",
       "      <td>1</td>\n",
       "      <td>2016</td>\n",
       "      <td>45185893</td>\n",
       "      <td>433397</td>\n",
       "      <td>315083</td>\n",
       "      <td>1100</td>\n",
       "      <td>44074</td>\n",
       "      <td>60815</td>\n",
       "      <td>583</td>\n",
       "    </tr>\n",
       "    <tr>\n",
       "      <th>3</th>\n",
       "      <td>Hearthstone</td>\n",
       "      <td>1</td>\n",
       "      <td>2016</td>\n",
       "      <td>39936159</td>\n",
       "      <td>235903</td>\n",
       "      <td>131357</td>\n",
       "      <td>517</td>\n",
       "      <td>36170</td>\n",
       "      <td>53749</td>\n",
       "      <td>317</td>\n",
       "    </tr>\n",
       "    <tr>\n",
       "      <th>4</th>\n",
       "      <td>Call of Duty: Black Ops III</td>\n",
       "      <td>1</td>\n",
       "      <td>2016</td>\n",
       "      <td>16153057</td>\n",
       "      <td>1151578</td>\n",
       "      <td>71639</td>\n",
       "      <td>3620</td>\n",
       "      <td>214054</td>\n",
       "      <td>21740</td>\n",
       "      <td>1549</td>\n",
       "    </tr>\n",
       "    <tr>\n",
       "      <th>...</th>\n",
       "      <td>...</td>\n",
       "      <td>...</td>\n",
       "      <td>...</td>\n",
       "      <td>...</td>\n",
       "      <td>...</td>\n",
       "      <td>...</td>\n",
       "      <td>...</td>\n",
       "      <td>...</td>\n",
       "      <td>...</td>\n",
       "      <td>...</td>\n",
       "    </tr>\n",
       "    <tr>\n",
       "      <th>16995</th>\n",
       "      <td>Tom Clancy's The Division 2</td>\n",
       "      <td>1</td>\n",
       "      <td>2023</td>\n",
       "      <td>666943</td>\n",
       "      <td>97138</td>\n",
       "      <td>2759</td>\n",
       "      <td>249</td>\n",
       "      <td>12805</td>\n",
       "      <td>897</td>\n",
       "      <td>130</td>\n",
       "    </tr>\n",
       "    <tr>\n",
       "      <th>16996</th>\n",
       "      <td>Persona 5 Royal</td>\n",
       "      <td>1</td>\n",
       "      <td>2023</td>\n",
       "      <td>664503</td>\n",
       "      <td>68310</td>\n",
       "      <td>10494</td>\n",
       "      <td>198</td>\n",
       "      <td>7475</td>\n",
       "      <td>894</td>\n",
       "      <td>91</td>\n",
       "    </tr>\n",
       "    <tr>\n",
       "      <th>16997</th>\n",
       "      <td>Bloodborne</td>\n",
       "      <td>1</td>\n",
       "      <td>2023</td>\n",
       "      <td>663078</td>\n",
       "      <td>45522</td>\n",
       "      <td>9455</td>\n",
       "      <td>117</td>\n",
       "      <td>8355</td>\n",
       "      <td>892</td>\n",
       "      <td>61</td>\n",
       "    </tr>\n",
       "    <tr>\n",
       "      <th>16998</th>\n",
       "      <td>PowerWash Simulator</td>\n",
       "      <td>1</td>\n",
       "      <td>2023</td>\n",
       "      <td>657644</td>\n",
       "      <td>18494</td>\n",
       "      <td>63757</td>\n",
       "      <td>192</td>\n",
       "      <td>6589</td>\n",
       "      <td>885</td>\n",
       "      <td>24</td>\n",
       "    </tr>\n",
       "    <tr>\n",
       "      <th>16999</th>\n",
       "      <td>Eternal Return</td>\n",
       "      <td>1</td>\n",
       "      <td>2023</td>\n",
       "      <td>642217</td>\n",
       "      <td>24245</td>\n",
       "      <td>9933</td>\n",
       "      <td>97</td>\n",
       "      <td>1997</td>\n",
       "      <td>864</td>\n",
       "      <td>32</td>\n",
       "    </tr>\n",
       "  </tbody>\n",
       "</table>\n",
       "<p>17000 rows × 10 columns</p>\n",
       "</div>"
      ],
      "text/plain": [
       "                                   Game  Month  Year Hours_watched  \\\n",
       "0                     League of Legends      1  2016      94377226   \n",
       "1      Counter-Strike: Global Offensive      1  2016      47832863   \n",
       "2                                Dota 2      1  2016      45185893   \n",
       "3                           Hearthstone      1  2016      39936159   \n",
       "4           Call of Duty: Black Ops III      1  2016      16153057   \n",
       "...                                 ...    ...   ...           ...   \n",
       "16995       Tom Clancy's The Division 2      1  2023        666943   \n",
       "16996                   Persona 5 Royal      1  2023        664503   \n",
       "16997                        Bloodborne      1  2023        663078   \n",
       "16998               PowerWash Simulator      1  2023        657644   \n",
       "16999                    Eternal Return      1  2023        642217   \n",
       "\n",
       "      Hours_Streamed Peak_viewers Peak_channels Streamers Avg_viewers  \\\n",
       "0           1362044        530270          2903    129172      127021   \n",
       "1            830105        372654          2197    120849       64378   \n",
       "2            433397        315083          1100     44074       60815   \n",
       "3            235903        131357           517     36170       53749   \n",
       "4           1151578         71639          3620    214054       21740   \n",
       "...              ...          ...           ...       ...         ...   \n",
       "16995          97138         2759           249     12805         897   \n",
       "16996          68310        10494           198      7475         894   \n",
       "16997          45522         9455           117      8355         892   \n",
       "16998          18494        63757           192      6589         885   \n",
       "16999          24245         9933            97      1997         864   \n",
       "\n",
       "      Avg_channels  \n",
       "0             1833  \n",
       "1             1117  \n",
       "2              583  \n",
       "3              317  \n",
       "4             1549  \n",
       "...            ...  \n",
       "16995          130  \n",
       "16996           91  \n",
       "16997           61  \n",
       "16998           24  \n",
       "16999           32  \n",
       "\n",
       "[17000 rows x 10 columns]"
      ]
     },
     "execution_count": 6,
     "metadata": {},
     "output_type": "execute_result"
    }
   ],
   "source": [
    "#ELIMINAR SIGNOS \n",
    "total[\"Hours_watched\"] = total[\"Hours_watched\"].str.split(\"(\", expand=True)[0]\n",
    "total[\"Peak_channels\"] = total[\"Peak_channels\"].str.split(\"(\", expand=True)[0]\n",
    "total[\"Avg_channels\"] = total[\"Avg_channels\"].str.split(\"(\", expand=True)[0]\n",
    "total[\"Hours_Streamed\"] = total[\"Hours_Streamed\"].str.split(\"(\", expand=True)[0]\n",
    "total[\"Hours_Streamed\"] = total[\"Hours_Streamed\"].str.split(\"h\", expand=True)[0]\n",
    "total[\"Peak_viewers\"] = total[\"Peak_viewers\"].str.split(\"(\", expand=True)[0]\n",
    "total[\"Avg_viewers\"] = total[\"Avg_viewers\"].str.split(\"(\", expand=True)[0]\n",
    "total[\"Streamers\"] = total[\"Streamers\"].str.split(\"(\", expand=True)[0]\n",
    "total"
   ]
  },
  {
   "cell_type": "code",
   "execution_count": 7,
   "metadata": {},
   "outputs": [],
   "source": [
    "#CONVERTIR TODAS LAS VARIABLES A float/int\n",
    "total['Hours_watched'] = total['Hours_watched'].astype(float)\n",
    "total['Year'] = total['Year'].astype(float)\n",
    "total['Month'] = total['Month'].astype(float)\n",
    "total['Hours_Streamed'] = total['Hours_Streamed'].astype(float)\n",
    "total['Peak_viewers'] = total['Peak_viewers'].astype(float)\n",
    "total['Peak_channels'] = total['Peak_channels'].astype(float)\n",
    "total['Streamers'] = total['Streamers'].astype(float)\n",
    "total['Avg_viewers'] = total['Avg_viewers'].astype(float)\n",
    "total['Avg_channels'] = total['Avg_channels'].astype(float)\n",
    "total['Hours_watched'] = total['Hours_watched'].astype(int)\n",
    "total['Year'] = total['Year'].astype(int)\n",
    "total['Month'] = total['Month'].astype(int)\n",
    "total['Hours_Streamed'] = total['Hours_Streamed'].astype(int)\n",
    "total['Peak_viewers'] = total['Peak_viewers'].astype(int)\n",
    "total['Peak_channels'] = total['Peak_channels'].astype(int)\n",
    "total['Streamers'] = total['Streamers'].astype(int)\n",
    "total['Avg_viewers'] = total['Avg_viewers'].astype(int)\n",
    "total['Avg_channels'] = total['Avg_channels'].astype(int)"
   ]
  },
  {
   "cell_type": "code",
   "execution_count": 8,
   "metadata": {},
   "outputs": [],
   "source": [
    "#EMPEZAMOS A CREAR EL TARGET CON 1 Y 0 EN FUNCION DE SI SIGUE ENTRE LOS 200 JUEGOS MAS VISUALIZADOS A 1 AÑO VISTA.\n",
    "#(1 SIGUE/0 NO SIGUE)\n",
    "total1=total.set_index([\"Year\"])\n",
    "#ADEMAS, SI ES 1, AÑADE EL VALOR DE HOURS_WATCHED DEL AÑO +1 AL AÑO. POR EJEMPLO 2016 SE AÑADE HOURS WATCHED DE 2017."
   ]
  },
  {
   "cell_type": "code",
   "execution_count": 9,
   "metadata": {},
   "outputs": [],
   "source": [
    "#AÑO 2016 EN COMPARACION CON 2017\n",
    "t2016=total1.loc[2016]\n",
    "t2017=total1.loc[2017]\n",
    "total2016=pd.concat([t2016,t2017])\n",
    "total2016=total2016.reset_index()\n",
    "target2016= []\n",
    "hours_watched_2017_list=[]\n",
    "\n",
    "for mes in range(1,13):\n",
    "    total2016[(total2016[\"Month\"] == mes) & (total2016[\"Year\"]==2016)][\"Game\"].values \n",
    "    for game in total2016[(total2016[\"Month\"] == mes) & (total2016[\"Year\"]==2016)][\"Game\"].values:\n",
    "        if game in total2016[(total2016[\"Month\"] == mes) & (total2016[\"Year\"]==2017)][\"Game\"].values:\n",
    "            target2016.append(1)\n",
    "            hours_watched_2017 = t2017[t2017['Game'] == game]['Hours_watched'].iloc[0]\n",
    "            hours_watched_2017_list.append(hours_watched_2017)\n",
    "        else:\n",
    "            target2016.append(0)"
   ]
  },
  {
   "cell_type": "code",
   "execution_count": 10,
   "metadata": {},
   "outputs": [
    {
     "data": {
      "text/plain": [
       "1322"
      ]
     },
     "execution_count": 10,
     "metadata": {},
     "output_type": "execute_result"
    }
   ],
   "source": [
    "len(hours_watched_2017_list)"
   ]
  },
  {
   "cell_type": "code",
   "execution_count": 11,
   "metadata": {},
   "outputs": [
    {
     "data": {
      "text/plain": [
       "1    1322\n",
       "0    1078\n",
       "Name: 0, dtype: int64"
      ]
     },
     "execution_count": 11,
     "metadata": {},
     "output_type": "execute_result"
    }
   ],
   "source": [
    "targete2016=pd.DataFrame(target2016)\n",
    "targete2016[0].value_counts()"
   ]
  },
  {
   "cell_type": "code",
   "execution_count": 12,
   "metadata": {},
   "outputs": [],
   "source": [
    "#AÑO 2017 EN COMPARACION CON 2018\n",
    "t2017=total1.loc[2017]\n",
    "t2018=total1.loc[2018]\n",
    "to2017=pd.concat([t2017,t2018])\n",
    "total2017=to2017.reset_index()\n",
    "\n",
    "target2017= []\n",
    "hours_watched_2018_list=[]\n",
    "\n",
    "for mes in range(1,13):\n",
    "    total2017[(total2017[\"Month\"] == mes) & (total2017[\"Year\"]==2017)][\"Game\"].values\n",
    "    for game in total2017[(total2017[\"Month\"] == mes) & (total2017[\"Year\"]==2017)][\"Game\"].values:\n",
    "        if game in total2017[(total2017[\"Month\"] == mes) & (total2017[\"Year\"]==2018)][\"Game\"].values:\n",
    "            target2017.append(1)\n",
    "            hours_watched_2018 = t2018[t2018['Game'] == game]['Hours_watched'].iloc[0]\n",
    "            hours_watched_2018_list.append(hours_watched_2018)\n",
    "        else:\n",
    "            target2017.append(0)\n"
   ]
  },
  {
   "cell_type": "code",
   "execution_count": 13,
   "metadata": {},
   "outputs": [],
   "source": [
    "#AÑO 2018 EN COMPARACION CON 2019\n",
    "t2018=total1.loc[2018]\n",
    "t2019=total1.loc[2019]\n",
    "to2018=pd.concat([t2018,t2019])\n",
    "total2018=to2018.reset_index()\n",
    "\n",
    "target2018= []\n",
    "hours_watched_2019_list=[]\n",
    "\n",
    "for mes in range(1,13):\n",
    "    total2018[(total2018[\"Month\"] == mes) & (total2018[\"Year\"]==2018)][\"Game\"].values\n",
    "    for game in total2018[(total2018[\"Month\"] == mes) & (total2018[\"Year\"]==2018)][\"Game\"].values:\n",
    "        if game in total2018[(total2018[\"Month\"] == mes) & (total2018[\"Year\"]==2019)][\"Game\"].values:\n",
    "            target2018.append(1)\n",
    "            hours_watched_2019 = t2019[t2019['Game'] == game]['Hours_watched'].iloc[0]\n",
    "            hours_watched_2019_list.append(hours_watched_2019)\n",
    "        else:\n",
    "            target2018.append(0)"
   ]
  },
  {
   "cell_type": "code",
   "execution_count": 14,
   "metadata": {},
   "outputs": [],
   "source": [
    "#AÑO 2019 EN COMPARACION CON 2020\n",
    "t2019=total1.loc[2019]\n",
    "t2020=total1.loc[2020]\n",
    "to2019=pd.concat([t2019,t2020])\n",
    "total2019=to2019.reset_index()\n",
    "\n",
    "target2019= []\n",
    "hours_watched_2020_list=[]\n",
    "\n",
    "for mes in range(1,13):\n",
    "    total2019[(total2019[\"Month\"] == mes) & (total2019[\"Year\"]==2019)][\"Game\"].values\n",
    "    for game in total2019[(total2019[\"Month\"] == mes) & (total2019[\"Year\"]==2019)][\"Game\"].values:\n",
    "        if game in total2019[(total2019[\"Month\"] == mes) & (total2019[\"Year\"]==2020)][\"Game\"].values:\n",
    "            target2019.append(1)\n",
    "            hours_watched_2020 = t2020[t2020['Game'] == game]['Hours_watched'].iloc[0]\n",
    "            hours_watched_2020_list.append(hours_watched_2020)\n",
    "        else:\n",
    "            target2019.append(0)"
   ]
  },
  {
   "cell_type": "code",
   "execution_count": 15,
   "metadata": {},
   "outputs": [],
   "source": [
    "#AÑO 2020 EN COMPARACION CON 2021\n",
    "t2020=total1.loc[2020]\n",
    "t2021=total1.loc[2021]\n",
    "to2020=pd.concat([t2020,t2021])\n",
    "total2020=to2020.reset_index()\n",
    "\n",
    "target2020= []\n",
    "hours_watched_2021_list=[]\n",
    "\n",
    "for mes in range(1,13):\n",
    "    total2020[(total2020[\"Month\"] == mes) & (total2020[\"Year\"]==2020)][\"Game\"].values\n",
    "    for game in total2020[(total2020[\"Month\"] == mes) & (total2020[\"Year\"]==2020)][\"Game\"].values:\n",
    "        if game in total2020[(total2020[\"Month\"] == mes) & (total2020[\"Year\"]==2021)][\"Game\"].values:\n",
    "            target2020.append(1)\n",
    "            hours_watched_2021 = t2021[t2021['Game'] == game]['Hours_watched'].iloc[0]\n",
    "            hours_watched_2021_list.append(hours_watched_2021)\n",
    "        else:\n",
    "            target2020.append(0)"
   ]
  },
  {
   "cell_type": "code",
   "execution_count": 16,
   "metadata": {},
   "outputs": [],
   "source": [
    "#AÑO 2022 EN COMPARACION CON 2021\n",
    "t2021=total1.loc[2021]\n",
    "t2022=total1.loc[2022]\n",
    "to2021=pd.concat([t2021,t2022])\n",
    "total2021=to2021.reset_index()\n",
    "\n",
    "target2021= []\n",
    "hours_watched_2022_list=[]\n",
    "\n",
    "for mes in range(1,13):\n",
    "    total2021[(total2021[\"Month\"] == mes) & (total2021[\"Year\"]==2021)][\"Game\"].values\n",
    "    for game in total2021[(total2021[\"Month\"] == mes) & (total2021[\"Year\"]==2021)][\"Game\"].values:\n",
    "        if game in total2021[(total2021[\"Month\"] == mes) & (total2021[\"Year\"]==2022)][\"Game\"].values:\n",
    "            target2021.append(1)\n",
    "            hours_watched_2022 = t2022[t2022['Game'] == game]['Hours_watched'].iloc[0]\n",
    "            hours_watched_2022_list.append(hours_watched_2022)\n",
    "        else:\n",
    "            target2021.append(0)"
   ]
  },
  {
   "cell_type": "code",
   "execution_count": 17,
   "metadata": {},
   "outputs": [],
   "source": [
    "#TARGET= 1 /0 CLASIFICACION BINARIA\n",
    "target=target2016+target2017+target2018+target2019+target2020+target2021"
   ]
  },
  {
   "cell_type": "code",
   "execution_count": 18,
   "metadata": {},
   "outputs": [],
   "source": [
    "#HOURS WATCHED AÑO +1\n",
    "Prevision_1_año_Hours_watched=hours_watched_2017_list + hours_watched_2018_list +hours_watched_2019_list + hours_watched_2020_list + hours_watched_2021_list +hours_watched_2022_list"
   ]
  },
  {
   "cell_type": "code",
   "execution_count": 19,
   "metadata": {},
   "outputs": [
    {
     "data": {
      "text/plain": [
       "1    8492\n",
       "0    5908\n",
       "Name: Target, dtype: int64"
      ]
     },
     "execution_count": 19,
     "metadata": {},
     "output_type": "execute_result"
    }
   ],
   "source": [
    "#CALCULO CUANTOS 1 Y 0 HAY\n",
    "df=pd.concat([t2016,t2017,t2018,t2019,t2020,t2021])\n",
    "df[\"Target\"]=target\n",
    "df[\"Target\"].value_counts()"
   ]
  },
  {
   "cell_type": "code",
   "execution_count": 20,
   "metadata": {},
   "outputs": [
    {
     "data": {
      "text/plain": [
       "1    8492\n",
       "0    5908\n",
       "Name: Target, dtype: int64"
      ]
     },
     "execution_count": 20,
     "metadata": {},
     "output_type": "execute_result"
    }
   ],
   "source": [
    "target_rec= df[\"Target\"].value_counts()\n",
    "target_rec"
   ]
  },
  {
   "cell_type": "code",
   "execution_count": 21,
   "metadata": {},
   "outputs": [
    {
     "data": {
      "text/html": [
       "<div>\n",
       "<style scoped>\n",
       "    .dataframe tbody tr th:only-of-type {\n",
       "        vertical-align: middle;\n",
       "    }\n",
       "\n",
       "    .dataframe tbody tr th {\n",
       "        vertical-align: top;\n",
       "    }\n",
       "\n",
       "    .dataframe thead th {\n",
       "        text-align: right;\n",
       "    }\n",
       "</style>\n",
       "<table border=\"1\" class=\"dataframe\">\n",
       "  <thead>\n",
       "    <tr style=\"text-align: right;\">\n",
       "      <th></th>\n",
       "      <th>Clas. Binaria</th>\n",
       "      <th>Target</th>\n",
       "    </tr>\n",
       "  </thead>\n",
       "  <tbody>\n",
       "    <tr>\n",
       "      <th>0</th>\n",
       "      <td>1</td>\n",
       "      <td>8492</td>\n",
       "    </tr>\n",
       "    <tr>\n",
       "      <th>1</th>\n",
       "      <td>0</td>\n",
       "      <td>5908</td>\n",
       "    </tr>\n",
       "  </tbody>\n",
       "</table>\n",
       "</div>"
      ],
      "text/plain": [
       "   Clas. Binaria  Target\n",
       "0              1    8492\n",
       "1              0    5908"
      ]
     },
     "execution_count": 21,
     "metadata": {},
     "output_type": "execute_result"
    }
   ],
   "source": [
    "recuento= pd.DataFrame(target_rec)\n",
    "recuento=recuento.reset_index()\n",
    "recuento.rename(columns={\"index\":\"Clas. Binaria\",0:\"Recuento\"},\n",
    "               inplace=True)\n",
    "recuento"
   ]
  },
  {
   "cell_type": "code",
   "execution_count": 22,
   "metadata": {},
   "outputs": [],
   "source": [
    "recuento.to_csv(\"CSV/Recuento 0 y 1.csv\", sep=\",\", index = True)"
   ]
  },
  {
   "cell_type": "code",
   "execution_count": 23,
   "metadata": {},
   "outputs": [
    {
     "data": {
      "text/plain": [
       "<AxesSubplot:xlabel='Peak_viewers', ylabel='Hours_watched'>"
      ]
     },
     "execution_count": 23,
     "metadata": {},
     "output_type": "execute_result"
    },
    {
     "data": {
      "image/png": "[encoded data removed]",
      "text/plain": [
       "<Figure size 640x480 with 1 Axes>"
      ]
     },
     "metadata": {},
     "output_type": "display_data"
    }
   ],
   "source": [
    "sns.scatterplot(data=df,\n",
    "               x=\"Peak_viewers\",\n",
    "               y=\"Hours_watched\",\n",
    "               hue=\"Target\")"
   ]
  },
  {
   "cell_type": "code",
   "execution_count": 24,
   "metadata": {},
   "outputs": [
    {
     "data": {
      "text/plain": [
       "<AxesSubplot:>"
      ]
     },
     "execution_count": 24,
     "metadata": {},
     "output_type": "execute_result"
    },
    {
     "data": {
      "image/png": "[encoded data removed]",
      "text/plain": [
       "<Figure size 640x480 with 2 Axes>"
      ]
     },
     "metadata": {},
     "output_type": "display_data"
    }
   ],
   "source": [
    "#MATRIZ DE CORRELACION ENTRE TODAS LAS VARIABLES EN FUNCION DEL TARGET\n",
    "#AL SER MODELOS DE CLASIFICACION NOS DA IGUAL LA CORRELACION LINEAL\n",
    "sns.heatmap(df[['Target','Hours_watched','Hours_Streamed','Peak_viewers','Peak_channels','Streamers','Avg_viewers','Avg_channels']].corr(), annot=True)"
   ]
  },
  {
   "cell_type": "code",
   "execution_count": 25,
   "metadata": {},
   "outputs": [],
   "source": [
    "#OBETENER X_TRAIN,X_TEST,Y_TRAIN, Y_TEST\n",
    "XY = df[['Hours_watched','Hours_Streamed','Peak_viewers','Peak_channels','Streamers','Avg_viewers','Avg_channels','Target']]\n",
    "nuevaX_Y=shuffle(XY)\n",
    "\n",
    "X_clas = nuevaX_Y[['Hours_watched','Hours_Streamed','Peak_viewers','Peak_channels','Streamers','Avg_viewers','Avg_channels']]\n",
    "y_clas = nuevaX_Y['Target']\n",
    "\n",
    "X_train, X_test, y_train, y_test = train_test_split(X_clas,y_clas, test_size=0.2, random_state=42)\n",
    "\n"
   ]
  },
  {
   "cell_type": "code",
   "execution_count": 26,
   "metadata": {},
   "outputs": [],
   "source": [
    "#ESTANDARIZACION\n",
    "scaler = StandardScaler()\n",
    "\n",
    "X_train= scaler.fit_transform(X_train)\n",
    "X_test = scaler.transform(X_test)"
   ]
  },
  {
   "cell_type": "code",
   "execution_count": 288,
   "metadata": {},
   "outputs": [
    {
     "name": "stdout",
     "output_type": "stream",
     "text": [
      "0.6256944444444444\n",
      "0.6134672619047619\n",
      "0.9768957345971564\n",
      "0.7536563071297989\n",
      "0.5526257196475715\n"
     ]
    },
    {
     "data": {
      "image/png": "[encoded data removed]",
      "text/plain": [
       "<Figure size 640x480 with 2 Axes>"
      ]
     },
     "metadata": {},
     "output_type": "display_data"
    }
   ],
   "source": [
    "#PRIMER MODELO: REGRESION LOGISTICA\n",
    "log_reg = LogisticRegression()\n",
    "\n",
    "log_reg.fit(X_train, y_train)\n",
    "\n",
    "y_pred = log_reg.predict(X_test)\n",
    "\n",
    "results_rg=accuracy_score(y_test,y_pred)\n",
    "print(accuracy_score(y_test,y_pred))\n",
    "print(precision_score(y_test, y_pred))\n",
    "print(recall_score(y_test, y_pred))\n",
    "print(f1_score(y_test, y_pred))\n",
    "print(roc_auc_score(y_test, y_pred))\n",
    "c_mat = confusion_matrix(y_test,y_pred)\n",
    "c_mat\n",
    "results_rg=accuracy_score(y_test,y_pred)\n",
    "result_rg_r=recall_score(y_test, y_pred)\n",
    "sns.heatmap(c_mat/c_mat.sum(axis=1), annot=True);\n",
    "results_rg_re=recall_score(y_test,y_pred)\n",
    "results_rg_p=precision_score(y_test,y_pred)"
   ]
  },
  {
   "cell_type": "code",
   "execution_count": 289,
   "metadata": {},
   "outputs": [
    {
     "name": "stdout",
     "output_type": "stream",
     "text": [
      "0.6256944444444444\n",
      "0.6134672619047619\n",
      "0.9768957345971564\n",
      "0.7536563071297989\n",
      "0.5526257196475715\n",
      "Confusion matrix: [[ 153 1039]\n",
      " [  39 1649]]\n"
     ]
    },
    {
     "data": {
      "image/png": "[encoded data removed]",
      "text/plain": [
       "<Figure size 640x480 with 2 Axes>"
      ]
     },
     "metadata": {},
     "output_type": "display_data"
    }
   ],
   "source": [
    "#ARBOL DE DECISION PARA VER MEJORES COMBINACIONES\n",
    "tree = DecisionTreeClassifier()\n",
    "from sklearn.model_selection import GridSearchCV\n",
    "\n",
    "parameters = {'max_depth': [2,4,6],\n",
    "'min_samples_leaf': np.arange(1,4)}\n",
    "\n",
    "grid_tree = GridSearchCV(tree, parameters, scoring='accuracy', cv=5)\n",
    "\n",
    "grid_tree.fit(X_train, y_train)\n",
    "\n",
    "tree_predictions = grid_tree.predict(X_test)\n",
    "results_tree= accuracy_score(y_test, tree_predictions)\n",
    "print(accuracy_score(y_test,y_pred))\n",
    "print(precision_score(y_test, y_pred))\n",
    "print(recall_score(y_test, y_pred))\n",
    "print(f1_score(y_test, y_pred))\n",
    "print(roc_auc_score(y_test, y_pred))\n",
    "c_mat = confusion_matrix(y_test,y_pred)\n",
    "print(\"Confusion matrix:\", c_mat)\n",
    "sns.heatmap(c_mat/c_mat.sum(axis=1), annot=True);\n",
    "results_tree_r= recall_score(y_test, tree_predictions)\n",
    "results_tree_p= precision_score(y_test, tree_predictions)\n"
   ]
  },
  {
   "cell_type": "code",
   "execution_count": 290,
   "metadata": {},
   "outputs": [
    {
     "data": {
      "text/plain": [
       "(0.7615451388888889, {'C': 10, 'gamma': 10})"
      ]
     },
     "execution_count": 290,
     "metadata": {},
     "output_type": "execute_result"
    }
   ],
   "source": [
    "#SVM -- VER QUE C Y GAMMA ES LA MEJOR PARA LUEGO APLICARLO\n",
    "C_values = [1,10]\n",
    "gamma_values = [1,10]\n",
    "\n",
    "best_score = 0\n",
    "best_params = {'C': None, 'gamma': None}\n",
    "for C in C_values:\n",
    "    for gamma in gamma_values:\n",
    "        svc = svm.SVC(C=C, gamma=gamma)\n",
    "        svc.fit(X_train, y_train)\n",
    "        score = svc.score(X_train, y_train)\n",
    "        \n",
    "        if score > best_score:\n",
    "            best_score = score\n",
    "            best_params['C'] = C\n",
    "            best_params['gamma'] = gamma\n",
    "            \n",
    "best_score, best_params"
   ]
  },
  {
   "cell_type": "code",
   "execution_count": 291,
   "metadata": {},
   "outputs": [
    {
     "name": "stdout",
     "output_type": "stream",
     "text": [
      "0.6256944444444444\n",
      "0.6134672619047619\n",
      "0.9768957345971564\n",
      "0.7536563071297989\n",
      "0.5526257196475715\n",
      "Confusion matrix: [[ 153 1039]\n",
      " [  39 1649]]\n"
     ]
    },
    {
     "data": {
      "image/png": "[encoded data removed]",
      "text/plain": [
       "<Figure size 640x480 with 2 Axes>"
      ]
     },
     "metadata": {},
     "output_type": "display_data"
    }
   ],
   "source": [
    "svm_clf = SVC(C=10,gamma = 10)\n",
    "svm_clf.fit(X_train, y_train)\n",
    "svm_predictions = svm_clf.predict(X_test)\n",
    "results_svm= accuracy_score(y_test, svm_predictions)\n",
    "print(accuracy_score(y_test,y_pred))\n",
    "print(precision_score(y_test, y_pred))\n",
    "print(recall_score(y_test, y_pred))\n",
    "print(f1_score(y_test, y_pred))\n",
    "print(roc_auc_score(y_test, y_pred))\n",
    "c_mat = confusion_matrix(y_test,y_pred)\n",
    "print(\"Confusion matrix:\", c_mat)\n",
    "sns.heatmap(c_mat/c_mat.sum(axis=1), annot=True);\n",
    "results_svm_r=recall_score(y_test, y_pred)\n",
    "results_svm_p=precision_score(y_test, y_pred)\n"
   ]
  },
  {
   "cell_type": "code",
   "execution_count": 292,
   "metadata": {},
   "outputs": [
    {
     "name": "stdout",
     "output_type": "stream",
     "text": [
      "0.7274305555555556\n",
      "0.726998491704374\n",
      "0.8566350710900474\n",
      "0.7865107424530866\n",
      "0.7005490791691849\n",
      "Confusion matrix: [[ 649  543]\n",
      " [ 242 1446]]\n"
     ]
    },
    {
     "data": {
      "image/png": "[encoded data removed]",
      "text/plain": [
       "<Figure size 640x480 with 2 Axes>"
      ]
     },
     "metadata": {},
     "output_type": "display_data"
    }
   ],
   "source": [
    "#HACEMOS UN VOTING CON HARD\n",
    "rnd_clf = RandomForestClassifier(n_estimators = 100)\n",
    "svm_clf = SVC(C=10,gamma = 10)\n",
    "votingh_clf = VotingClassifier(\n",
    "    estimators = [('lr', log_reg), ('rf', rnd_clf), ('svc', svm_clf)],\n",
    "voting = \"hard\"\n",
    ")\n",
    "votingh_clf.fit(X_train, y_train)\n",
    "for clf in log_reg, rnd_clf, svm_clf, votingh_clf:\n",
    "    clf.fit(X_train, y_train)\n",
    "y_pred = clf.predict(X_test)\n",
    "results_voting_hard= accuracy_score(y_test, y_pred)\n",
    "print(accuracy_score(y_test,y_pred))\n",
    "print(precision_score(y_test, y_pred))\n",
    "print(recall_score(y_test, y_pred))\n",
    "print(f1_score(y_test, y_pred))\n",
    "print(roc_auc_score(y_test, y_pred))\n",
    "c_mat = confusion_matrix(y_test,y_pred)\n",
    "print(\"Confusion matrix:\", c_mat)\n",
    "sns.heatmap(c_mat/c_mat.sum(axis=1), annot=True);\n",
    "results_voting_hard_r=recall_score(y_test, y_pred)\n",
    "results_voting_hard_p=precision_score(y_test, y_pred)\n",
    "\n"
   ]
  },
  {
   "cell_type": "code",
   "execution_count": 293,
   "metadata": {},
   "outputs": [
    {
     "name": "stdout",
     "output_type": "stream",
     "text": [
      "0.7291666666666666\n",
      "0.7420042643923241\n",
      "0.8246445497630331\n",
      "0.7811447811447813\n",
      "0.7093021406533286\n",
      "Confusion matrix: [[ 708  484]\n",
      " [ 296 1392]]\n"
     ]
    },
    {
     "data": {
      "image/png": "[encoded data removed]",
      "text/plain": [
       "<Figure size 640x480 with 2 Axes>"
      ]
     },
     "metadata": {},
     "output_type": "display_data"
    }
   ],
   "source": [
    "#HACEMOS UN VOTING CON SOFT\n",
    "rnd_clf = RandomForestClassifier(n_estimators = 100)\n",
    "svm_clf = SVC(gamma = 10,probability = True)\n",
    "votings_clf = VotingClassifier(\n",
    "    estimators = [('lr', log_reg), ('rf', rnd_clf), ('svc', svm_clf)],\n",
    "voting = \"soft\"\n",
    ")\n",
    "votings_clf.fit(X_train, y_train)\n",
    "for clf in log_reg, rnd_clf, svm_clf, votings_clf:\n",
    "    clf.fit(X_train, y_train)\n",
    "y_pred = clf.predict(X_test)\n",
    "results_voting_soft= accuracy_score(y_test, y_pred)\n",
    "print(accuracy_score(y_test,y_pred))\n",
    "print(precision_score(y_test, y_pred))\n",
    "print(recall_score(y_test, y_pred))\n",
    "print(f1_score(y_test, y_pred))\n",
    "print(roc_auc_score(y_test, y_pred))\n",
    "c_mat = confusion_matrix(y_test,y_pred)\n",
    "print(\"Confusion matrix:\", c_mat)\n",
    "sns.heatmap(c_mat/c_mat.sum(axis=1), annot=True);\n",
    "results_voting_soft_r=recall_score(y_test, y_pred)\n",
    "results_voting_soft_p=precision_score(y_test, y_pred)"
   ]
  },
  {
   "cell_type": "code",
   "execution_count": 294,
   "metadata": {},
   "outputs": [
    {
     "name": "stdout",
     "output_type": "stream",
     "text": [
      "0.7142361111111111\n",
      "0.71571072319202\n",
      "0.8501184834123223\n",
      "0.777145951800704\n",
      "0.6859652819746176\n",
      "Confusion matrix: [[ 622  570]\n",
      " [ 253 1435]]\n"
     ]
    },
    {
     "data": {
      "image/png": "[encoded data removed]",
      "text/plain": [
       "<Figure size 640x480 with 2 Axes>"
      ]
     },
     "metadata": {},
     "output_type": "display_data"
    }
   ],
   "source": [
    "#HACEMOS UN RANDOMFORESTCLASSIFIER\n",
    "rf= RandomForestClassifier()\n",
    "parameters = {'max_depth': [2,4,6],\n",
    "'min_samples_leaf': np.arange(1,4)}\n",
    "rf_clf = GridSearchCV(rf,parameters, cv=5)\n",
    "rf_clf.fit(X_train, y_train)\n",
    "y_pred = rf_clf.predict(X_test)\n",
    "results_rf= accuracy_score(y_test, y_pred)\n",
    "print(accuracy_score(y_test,y_pred))\n",
    "print(precision_score(y_test, y_pred))\n",
    "print(recall_score(y_test, y_pred))\n",
    "print(f1_score(y_test, y_pred))\n",
    "print(roc_auc_score(y_test, y_pred))\n",
    "c_mat = confusion_matrix(y_test,y_pred)\n",
    "print(\"Confusion matrix:\", c_mat)\n",
    "sns.heatmap(c_mat/c_mat.sum(axis=1), annot=True);\n",
    "results_rf_r=recall_score(y_test,y_pred)\n",
    "results_rf_p=precision_score(y_test,y_pred)"
   ]
  },
  {
   "cell_type": "code",
   "execution_count": 295,
   "metadata": {},
   "outputs": [
    {
     "data": {
      "text/plain": [
       "{'max_depth': 6, 'min_samples_leaf': 1}"
      ]
     },
     "execution_count": 295,
     "metadata": {},
     "output_type": "execute_result"
    }
   ],
   "source": [
    "rf_clf.best_params_"
   ]
  },
  {
   "cell_type": "code",
   "execution_count": 296,
   "metadata": {},
   "outputs": [
    {
     "name": "stdout",
     "output_type": "stream",
     "text": [
      "0.728125\n",
      "0.7331272539927872\n",
      "0.8430094786729858\n",
      "0.7842380821162855\n",
      "0.7042228601418621\n",
      "Confusion matrix: [[ 674  518]\n",
      " [ 265 1423]]\n"
     ]
    },
    {
     "data": {
      "image/png": "[encoded data removed]",
      "text/plain": [
       "<Figure size 640x480 with 2 Axes>"
      ]
     },
     "metadata": {},
     "output_type": "display_data"
    }
   ],
   "source": [
    "#HACEMOS UN BAGGING \n",
    "bag_clf = BaggingClassifier(\n",
    "    DecisionTreeClassifier(max_depth=6, min_samples_split=6),n_estimators = 500,\n",
    "    bootstrap = True)\n",
    "rf_clf = GridSearchCV(rf,parameters, cv=5)\n",
    "bag_clf.fit(X_train, y_train)\n",
    "y_pred = bag_clf.predict(X_test)\n",
    "results_bagg= (accuracy_score(y_test, y_pred))\n",
    "print(accuracy_score(y_test,y_pred))\n",
    "print(precision_score(y_test, y_pred))\n",
    "print(recall_score(y_test, y_pred))\n",
    "print(f1_score(y_test, y_pred))\n",
    "print(roc_auc_score(y_test, y_pred))\n",
    "c_mat = confusion_matrix(y_test,y_pred)\n",
    "print(\"Confusion matrix:\", c_mat)\n",
    "sns.heatmap(c_mat/c_mat.sum(axis=1), annot=True);\n",
    "results_bagg_r= (recall_score(y_test, y_pred))\n",
    "results_bagg_p= (precision_score(y_test, y_pred))"
   ]
  },
  {
   "cell_type": "code",
   "execution_count": 297,
   "metadata": {},
   "outputs": [
    {
     "name": "stdout",
     "output_type": "stream",
     "text": [
      "0.7090277777777778\n",
      "0.74230330672748\n",
      "0.7713270142180095\n",
      "0.7565368971528181\n",
      "0.6960661916727632\n",
      "Confusion matrix: [[ 740  452]\n",
      " [ 386 1302]]\n"
     ]
    },
    {
     "data": {
      "image/png": "[encoded data removed]",
      "text/plain": [
       "<Figure size 640x480 with 2 Axes>"
      ]
     },
     "metadata": {},
     "output_type": "display_data"
    }
   ],
   "source": [
    "#HACEMOS UN ADACLASSIFIER\n",
    "ada_clf = AdaBoostClassifier(\n",
    "    DecisionTreeClassifier(max_depth=6, min_samples_split=6),n_estimators = 500,\n",
    "    algorithm = \"SAMME.R\", learning_rate = 0.5,)\n",
    "ada_clf.fit(X_train, y_train)\n",
    "y_pred = ada_clf.predict(X_test)\n",
    "results_ada=(accuracy_score(y_test, y_pred))\n",
    "print(accuracy_score(y_test,y_pred))\n",
    "print(precision_score(y_test, y_pred))\n",
    "print(recall_score(y_test, y_pred))\n",
    "print(f1_score(y_test, y_pred))\n",
    "print(roc_auc_score(y_test, y_pred))\n",
    "c_mat = confusion_matrix(y_test,y_pred)\n",
    "print(\"Confusion matrix:\", c_mat)\n",
    "sns.heatmap(c_mat/c_mat.sum(axis=1), annot=True); \n",
    "results_ada_r=(recall_score(y_test, y_pred))\n",
    "results_ada_p=(precision_score(y_test, y_pred))"
   ]
  },
  {
   "cell_type": "code",
   "execution_count": 298,
   "metadata": {},
   "outputs": [
    {
     "name": "stdout",
     "output_type": "stream",
     "text": [
      "0.7336805555555556\n",
      "0.7482479784366577\n",
      "0.8222748815165877\n",
      "0.7835167936776742\n",
      "0.7152481790133274\n",
      "Confusion matrix: [[ 725  467]\n",
      " [ 300 1388]]\n"
     ]
    },
    {
     "data": {
      "image/png": "[encoded data removed]",
      "text/plain": [
       "<Figure size 640x480 with 2 Axes>"
      ]
     },
     "metadata": {},
     "output_type": "display_data"
    }
   ],
   "source": [
    "#HACEMOS UN GRADIENTBOOSTINGCLASSIFIER\n",
    "gb = GradientBoostingClassifier()\n",
    "parameters = {'max_depth': [2,4,6],\n",
    "'min_samples_leaf': np.arange(1,4)}\n",
    "gb_clf = GridSearchCV(gb,parameters, cv=5)\n",
    "gb_c=gb_clf.fit(X_train, y_train)\n",
    "y_pred = gb_clf.predict(X_test)\n",
    "results_gb=(accuracy_score(y_test, y_pred))\n",
    "print(accuracy_score(y_test,y_pred))\n",
    "print(precision_score(y_test, y_pred))\n",
    "print(recall_score(y_test, y_pred))\n",
    "print(f1_score(y_test, y_pred))\n",
    "print(roc_auc_score(y_test, y_pred))\n",
    "c_mat = confusion_matrix(y_test,y_pred)\n",
    "plt.savefig('confusionmatrix_clas.png')\n",
    "print(\"Confusion matrix:\", c_mat)\n",
    "matriz_confusion_clas=sns.heatmap(c_mat/c_mat.sum(axis=1), annot=True);\n",
    "results_gb_r=(recall_score(y_test, y_pred))\n",
    "results_gb_p=(precision_score(y_test, y_pred))\n",
    "\n"
   ]
  },
  {
   "cell_type": "code",
   "execution_count": 29,
   "metadata": {},
   "outputs": [],
   "source": [
    "X_train, X_val, y_train, y_val = train_test_split(X_train, y_train, test_size=0.33, random_state=42)"
   ]
  },
  {
   "cell_type": "code",
   "execution_count": 300,
   "metadata": {},
   "outputs": [
    {
     "data": {
      "text/plain": [
       "array([[ 725,  467],\n",
       "       [ 300, 1388]], dtype=int64)"
      ]
     },
     "execution_count": 300,
     "metadata": {},
     "output_type": "execute_result"
    }
   ],
   "source": [
    "c_mat"
   ]
  },
  {
   "cell_type": "code",
   "execution_count": 30,
   "metadata": {},
   "outputs": [
    {
     "name": "stdout",
     "output_type": "stream",
     "text": [
      "[0]\tvalidation_0-logloss:0.62495\n",
      "[1]\tvalidation_0-logloss:0.58552\n",
      "[2]\tvalidation_0-logloss:0.56070\n",
      "[3]\tvalidation_0-logloss:0.54536\n",
      "[4]\tvalidation_0-logloss:0.53675\n",
      "[5]\tvalidation_0-logloss:0.53212\n",
      "[6]\tvalidation_0-logloss:0.52816\n",
      "[7]\tvalidation_0-logloss:0.52613\n",
      "[8]\tvalidation_0-logloss:0.52414\n",
      "[9]\tvalidation_0-logloss:0.52236\n",
      "[10]\tvalidation_0-logloss:0.52059\n",
      "[11]\tvalidation_0-logloss:0.51999\n",
      "[12]\tvalidation_0-logloss:0.51885\n",
      "[13]\tvalidation_0-logloss:0.51948\n",
      "[14]\tvalidation_0-logloss:0.51870\n",
      "[15]\tvalidation_0-logloss:0.51861\n",
      "[16]\tvalidation_0-logloss:0.51865\n",
      "[17]\tvalidation_0-logloss:0.51898\n",
      "[18]\tvalidation_0-logloss:0.51891\n",
      "[19]\tvalidation_0-logloss:0.51898\n",
      "[20]\tvalidation_0-logloss:0.51917\n",
      "[21]\tvalidation_0-logloss:0.51917\n",
      "[22]\tvalidation_0-logloss:0.51932\n",
      "[23]\tvalidation_0-logloss:0.51849\n",
      "[24]\tvalidation_0-logloss:0.51886\n",
      "[25]\tvalidation_0-logloss:0.51882\n",
      "[26]\tvalidation_0-logloss:0.51892\n",
      "[27]\tvalidation_0-logloss:0.51930\n",
      "[28]\tvalidation_0-logloss:0.51994\n",
      "[29]\tvalidation_0-logloss:0.52016\n",
      "[30]\tvalidation_0-logloss:0.52028\n",
      "[31]\tvalidation_0-logloss:0.52010\n",
      "[32]\tvalidation_0-logloss:0.52006\n",
      "[33]\tvalidation_0-logloss:0.51847\n",
      "[34]\tvalidation_0-logloss:0.51842\n",
      "[35]\tvalidation_0-logloss:0.51845\n",
      "[36]\tvalidation_0-logloss:0.51746\n",
      "[37]\tvalidation_0-logloss:0.51754\n",
      "[38]\tvalidation_0-logloss:0.51788\n",
      "[39]\tvalidation_0-logloss:0.51822\n",
      "[40]\tvalidation_0-logloss:0.51851\n",
      "[41]\tvalidation_0-logloss:0.51947\n",
      "[42]\tvalidation_0-logloss:0.51961\n",
      "[43]\tvalidation_0-logloss:0.52016\n",
      "[44]\tvalidation_0-logloss:0.51957\n",
      "[45]\tvalidation_0-logloss:0.51990\n",
      "[46]\tvalidation_0-logloss:0.51920\n",
      "[47]\tvalidation_0-logloss:0.51876\n",
      "[48]\tvalidation_0-logloss:0.51925\n",
      "[49]\tvalidation_0-logloss:0.51989\n",
      "[50]\tvalidation_0-logloss:0.51991\n",
      "[51]\tvalidation_0-logloss:0.51961\n",
      "[52]\tvalidation_0-logloss:0.51989\n",
      "[53]\tvalidation_0-logloss:0.52040\n",
      "[54]\tvalidation_0-logloss:0.52045\n",
      "[55]\tvalidation_0-logloss:0.52070\n",
      "[56]\tvalidation_0-logloss:0.52079\n",
      "[57]\tvalidation_0-logloss:0.52089\n",
      "[58]\tvalidation_0-logloss:0.52080\n",
      "[59]\tvalidation_0-logloss:0.52182\n",
      "[60]\tvalidation_0-logloss:0.52210\n",
      "[61]\tvalidation_0-logloss:0.52256\n",
      "[62]\tvalidation_0-logloss:0.52302\n",
      "[63]\tvalidation_0-logloss:0.52271\n",
      "[64]\tvalidation_0-logloss:0.52297\n",
      "[65]\tvalidation_0-logloss:0.52300\n",
      "[66]\tvalidation_0-logloss:0.52238\n",
      "[67]\tvalidation_0-logloss:0.52216\n",
      "[68]\tvalidation_0-logloss:0.52172\n",
      "[69]\tvalidation_0-logloss:0.52165\n",
      "[70]\tvalidation_0-logloss:0.52217\n",
      "[71]\tvalidation_0-logloss:0.52201\n",
      "[72]\tvalidation_0-logloss:0.52288\n",
      "[73]\tvalidation_0-logloss:0.52290\n",
      "[74]\tvalidation_0-logloss:0.52309\n",
      "[75]\tvalidation_0-logloss:0.52352\n",
      "[76]\tvalidation_0-logloss:0.52315\n",
      "[77]\tvalidation_0-logloss:0.52353\n",
      "[78]\tvalidation_0-logloss:0.52385\n",
      "[79]\tvalidation_0-logloss:0.52423\n",
      "[80]\tvalidation_0-logloss:0.52507\n",
      "[81]\tvalidation_0-logloss:0.52502\n",
      "[82]\tvalidation_0-logloss:0.52534\n",
      "[83]\tvalidation_0-logloss:0.52604\n",
      "[84]\tvalidation_0-logloss:0.52652\n",
      "[85]\tvalidation_0-logloss:0.52662\n",
      "[86]\tvalidation_0-logloss:0.52731\n",
      "[87]\tvalidation_0-logloss:0.52796\n",
      "[88]\tvalidation_0-logloss:0.52852\n",
      "[89]\tvalidation_0-logloss:0.52865\n",
      "[90]\tvalidation_0-logloss:0.52885\n",
      "[91]\tvalidation_0-logloss:0.52962\n",
      "[92]\tvalidation_0-logloss:0.52936\n",
      "[93]\tvalidation_0-logloss:0.52913\n",
      "[94]\tvalidation_0-logloss:0.52929\n",
      "[95]\tvalidation_0-logloss:0.52941\n",
      "[96]\tvalidation_0-logloss:0.53006\n",
      "[97]\tvalidation_0-logloss:0.53103\n",
      "[98]\tvalidation_0-logloss:0.53132\n",
      "[99]\tvalidation_0-logloss:0.53168\n",
      "0.7452264048008729\n",
      "0.8063754427390791\n",
      "0.7745959739155089\n",
      "0.706307451555037\n",
      "Confusion matrix: [[ 719  467]\n",
      " [ 328 1366]]\n"
     ]
    },
    {
     "data": {
      "image/png": "[encoded data removed]",
      "text/plain": [
       "<Figure size 640x480 with 2 Axes>"
      ]
     },
     "metadata": {},
     "output_type": "display_data"
    }
   ],
   "source": [
    "#HACEMOS UN XGBOOSTCLASSIFIER\n",
    "xgb_clf = XGBClassifier(n_estimators=100, use_label_encoder=False)\n",
    "xgb_clf.fit(X_train, y_train, eval_set = [(X_val, y_val)])\n",
    "y_pred = xgb_clf.predict(X_test)\n",
    "results_xgb=(accuracy_score(y_test, y_pred))\n",
    "results_xgb\n",
    "results_rg=accuracy_score(y_test,y_pred)\n",
    "print(precision_score(y_test, y_pred))\n",
    "print(recall_score(y_test, y_pred))\n",
    "print(f1_score(y_test, y_pred))\n",
    "print(roc_auc_score(y_test, y_pred))\n",
    "c_mat = confusion_matrix(y_test,y_pred)\n",
    "print(\"Confusion matrix:\", c_mat)\n",
    "sns.heatmap(c_mat/c_mat.sum(axis=1), annot=True);\n",
    "results_xgb_r=(recall_score(y_test, y_pred))\n",
    "results_xgb_p=(precision_score(y_test, y_pred))\n"
   ]
  },
  {
   "cell_type": "code",
   "execution_count": 360,
   "metadata": {},
   "outputs": [
    {
     "data": {
      "text/plain": [
       "GradientBoosting      0.733681\n",
       "Voting soft           0.729167\n",
       "Bagging DT            0.728125\n",
       "Voting hard           0.727431\n",
       "Logistic Regresion    0.725347\n",
       "XGBoost               0.725347\n",
       "Vector soporte        0.721181\n",
       "Random Forest         0.714236\n",
       "Ada Boost             0.709028\n",
       "Arbol de decision     0.700694\n",
       "dtype: float64"
      ]
     },
     "execution_count": 360,
     "metadata": {},
     "output_type": "execute_result"
    }
   ],
   "source": [
    "resultados = [results_rg,results_tree,results_svm,results_voting_hard,results_voting_soft,results_bagg, results_rf, results_ada, results_gb, results_xgb]\n",
    "algoritmos = [\"Logistic Regresion\",\"Arbol de decision\",\"Vector soporte\",\"Voting hard\",\"Voting soft\",\"Bagging DT\", \"Random Forest\", \"Ada Boost\", \"GradientBoosting\", \"XGBoost\"]\n",
    "\n",
    "result = pd.Series(resultados, algoritmos).sort_values(ascending=False)\n",
    "result"
   ]
  },
  {
   "cell_type": "code",
   "execution_count": 303,
   "metadata": {},
   "outputs": [
    {
     "data": {
      "text/html": [
       "<div>\n",
       "<style scoped>\n",
       "    .dataframe tbody tr th:only-of-type {\n",
       "        vertical-align: middle;\n",
       "    }\n",
       "\n",
       "    .dataframe tbody tr th {\n",
       "        vertical-align: top;\n",
       "    }\n",
       "\n",
       "    .dataframe thead th {\n",
       "        text-align: right;\n",
       "    }\n",
       "</style>\n",
       "<table border=\"1\" class=\"dataframe\">\n",
       "  <thead>\n",
       "    <tr style=\"text-align: right;\">\n",
       "      <th></th>\n",
       "      <th>Modelo</th>\n",
       "      <th>Score Accuracy</th>\n",
       "    </tr>\n",
       "  </thead>\n",
       "  <tbody>\n",
       "    <tr>\n",
       "      <th>0</th>\n",
       "      <td>GradientBoosting</td>\n",
       "      <td>0.733681</td>\n",
       "    </tr>\n",
       "    <tr>\n",
       "      <th>1</th>\n",
       "      <td>Voting soft</td>\n",
       "      <td>0.729167</td>\n",
       "    </tr>\n",
       "    <tr>\n",
       "      <th>2</th>\n",
       "      <td>Bagging DT</td>\n",
       "      <td>0.728125</td>\n",
       "    </tr>\n",
       "    <tr>\n",
       "      <th>3</th>\n",
       "      <td>Voting hard</td>\n",
       "      <td>0.727431</td>\n",
       "    </tr>\n",
       "    <tr>\n",
       "      <th>4</th>\n",
       "      <td>Logistic Regresion</td>\n",
       "      <td>0.725347</td>\n",
       "    </tr>\n",
       "    <tr>\n",
       "      <th>5</th>\n",
       "      <td>XGBoost</td>\n",
       "      <td>0.725347</td>\n",
       "    </tr>\n",
       "    <tr>\n",
       "      <th>6</th>\n",
       "      <td>Vector soporte</td>\n",
       "      <td>0.721181</td>\n",
       "    </tr>\n",
       "    <tr>\n",
       "      <th>7</th>\n",
       "      <td>Random Forest</td>\n",
       "      <td>0.714236</td>\n",
       "    </tr>\n",
       "    <tr>\n",
       "      <th>8</th>\n",
       "      <td>Ada Boost</td>\n",
       "      <td>0.709028</td>\n",
       "    </tr>\n",
       "    <tr>\n",
       "      <th>9</th>\n",
       "      <td>Arbol de decision</td>\n",
       "      <td>0.700694</td>\n",
       "    </tr>\n",
       "  </tbody>\n",
       "</table>\n",
       "</div>"
      ],
      "text/plain": [
       "               Modelo  Score Accuracy\n",
       "0    GradientBoosting        0.733681\n",
       "1         Voting soft        0.729167\n",
       "2          Bagging DT        0.728125\n",
       "3         Voting hard        0.727431\n",
       "4  Logistic Regresion        0.725347\n",
       "5             XGBoost        0.725347\n",
       "6      Vector soporte        0.721181\n",
       "7       Random Forest        0.714236\n",
       "8           Ada Boost        0.709028\n",
       "9   Arbol de decision        0.700694"
      ]
     },
     "execution_count": 303,
     "metadata": {},
     "output_type": "execute_result"
    }
   ],
   "source": [
    "result_a= pd.DataFrame(result)\n",
    "result_a=result_a.reset_index()\n",
    "result_a.rename(columns={\"index\":\"Modelo\",0:\"Score Accuracy\"},\n",
    "               inplace=True)\n",
    "result_a"
   ]
  },
  {
   "cell_type": "code",
   "execution_count": 304,
   "metadata": {},
   "outputs": [],
   "source": [
    "result_a.to_csv(\"CSV/Accuracy modelos clasificacion.csv\", sep=\",\", index = True)"
   ]
  },
  {
   "cell_type": "code",
   "execution_count": 361,
   "metadata": {},
   "outputs": [
    {
     "data": {
      "text/plain": [
       "Logistic Regresion    0.976896\n",
       "Vector soporte        0.976896\n",
       "Voting hard           0.856635\n",
       "Random Forest         0.850118\n",
       "Bagging DT            0.843009\n",
       "Voting soft           0.824645\n",
       "GradientBoosting      0.822275\n",
       "Arbol de decision     0.794431\n",
       "XGBoost               0.793839\n",
       "Ada Boost             0.771327\n",
       "dtype: float64"
      ]
     },
     "execution_count": 361,
     "metadata": {},
     "output_type": "execute_result"
    }
   ],
   "source": [
    "resultados_recall = [results_rg_re,results_tree_r,results_svm_r,results_voting_hard_r,results_voting_soft_r,results_bagg_r, results_rf_r, results_ada_r, results_gb_r, results_xgb_r]\n",
    "algoritmos = [\"Logistic Regresion\",\"Arbol de decision\",\"Vector soporte\",\"Voting hard\",\"Voting soft\",\"Bagging DT\", \"Random Forest\", \"Ada Boost\", \"GradientBoosting\", \"XGBoost\"]\n",
    "\n",
    "result_recall = pd.Series(resultados_recall, algoritmos).sort_values(ascending=False)\n",
    "result_recall"
   ]
  },
  {
   "cell_type": "code",
   "execution_count": 306,
   "metadata": {},
   "outputs": [
    {
     "data": {
      "text/html": [
       "<div>\n",
       "<style scoped>\n",
       "    .dataframe tbody tr th:only-of-type {\n",
       "        vertical-align: middle;\n",
       "    }\n",
       "\n",
       "    .dataframe tbody tr th {\n",
       "        vertical-align: top;\n",
       "    }\n",
       "\n",
       "    .dataframe thead th {\n",
       "        text-align: right;\n",
       "    }\n",
       "</style>\n",
       "<table border=\"1\" class=\"dataframe\">\n",
       "  <thead>\n",
       "    <tr style=\"text-align: right;\">\n",
       "      <th></th>\n",
       "      <th>Modelo</th>\n",
       "      <th>Score Recall</th>\n",
       "    </tr>\n",
       "  </thead>\n",
       "  <tbody>\n",
       "    <tr>\n",
       "      <th>0</th>\n",
       "      <td>Logistic Regresion</td>\n",
       "      <td>0.976896</td>\n",
       "    </tr>\n",
       "    <tr>\n",
       "      <th>1</th>\n",
       "      <td>Vector soporte</td>\n",
       "      <td>0.976896</td>\n",
       "    </tr>\n",
       "    <tr>\n",
       "      <th>2</th>\n",
       "      <td>Voting hard</td>\n",
       "      <td>0.856635</td>\n",
       "    </tr>\n",
       "    <tr>\n",
       "      <th>3</th>\n",
       "      <td>Random Forest</td>\n",
       "      <td>0.850118</td>\n",
       "    </tr>\n",
       "    <tr>\n",
       "      <th>4</th>\n",
       "      <td>Bagging DT</td>\n",
       "      <td>0.843009</td>\n",
       "    </tr>\n",
       "    <tr>\n",
       "      <th>5</th>\n",
       "      <td>Voting soft</td>\n",
       "      <td>0.824645</td>\n",
       "    </tr>\n",
       "    <tr>\n",
       "      <th>6</th>\n",
       "      <td>GradientBoosting</td>\n",
       "      <td>0.822275</td>\n",
       "    </tr>\n",
       "    <tr>\n",
       "      <th>7</th>\n",
       "      <td>Arbol de decision</td>\n",
       "      <td>0.794431</td>\n",
       "    </tr>\n",
       "    <tr>\n",
       "      <th>8</th>\n",
       "      <td>XGBoost</td>\n",
       "      <td>0.793839</td>\n",
       "    </tr>\n",
       "    <tr>\n",
       "      <th>9</th>\n",
       "      <td>Ada Boost</td>\n",
       "      <td>0.771327</td>\n",
       "    </tr>\n",
       "  </tbody>\n",
       "</table>\n",
       "</div>"
      ],
      "text/plain": [
       "               Modelo  Score Recall\n",
       "0  Logistic Regresion      0.976896\n",
       "1      Vector soporte      0.976896\n",
       "2         Voting hard      0.856635\n",
       "3       Random Forest      0.850118\n",
       "4          Bagging DT      0.843009\n",
       "5         Voting soft      0.824645\n",
       "6    GradientBoosting      0.822275\n",
       "7   Arbol de decision      0.794431\n",
       "8             XGBoost      0.793839\n",
       "9           Ada Boost      0.771327"
      ]
     },
     "execution_count": 306,
     "metadata": {},
     "output_type": "execute_result"
    }
   ],
   "source": [
    "result_re= pd.DataFrame(result_recall)\n",
    "result_re=result_re.reset_index()\n",
    "result_re.rename(columns={\"index\":\"Modelo\",0:\"Score Recall\"},\n",
    "               inplace=True)\n",
    "result_re"
   ]
  },
  {
   "cell_type": "code",
   "execution_count": 307,
   "metadata": {},
   "outputs": [],
   "source": [
    "result_re.to_csv(\"CSV/Recall modelos clasificacion.csv\", sep=\",\", index = True)"
   ]
  },
  {
   "cell_type": "code",
   "execution_count": 362,
   "metadata": {},
   "outputs": [
    {
     "data": {
      "text/plain": [
       "XGBoost               0.751542\n",
       "GradientBoosting      0.748248\n",
       "Ada Boost             0.742303\n",
       "Voting soft           0.742004\n",
       "Bagging DT            0.733127\n",
       "Voting hard           0.726998\n",
       "Arbol de decision     0.722522\n",
       "Random Forest         0.715711\n",
       "Logistic Regresion    0.613467\n",
       "Vector soporte        0.613467\n",
       "dtype: float64"
      ]
     },
     "execution_count": 362,
     "metadata": {},
     "output_type": "execute_result"
    }
   ],
   "source": [
    "resultados_precision = [results_rg_p,results_tree_p,results_svm_p,results_voting_hard_p,results_voting_soft_p,results_bagg_p, results_rf_p, results_ada_p, results_gb_p, results_xgb_p]\n",
    "algoritmos = [\"Logistic Regresion\",\"Arbol de decision\",\"Vector soporte\",\"Voting hard\",\"Voting soft\",\"Bagging DT\", \"Random Forest\", \"Ada Boost\", \"GradientBoosting\", \"XGBoost\"]\n",
    "\n",
    "resultados_precision = pd.Series(resultados_precision, algoritmos).sort_values(ascending=False)\n",
    "resultados_precision"
   ]
  },
  {
   "cell_type": "code",
   "execution_count": 309,
   "metadata": {},
   "outputs": [
    {
     "data": {
      "text/html": [
       "<div>\n",
       "<style scoped>\n",
       "    .dataframe tbody tr th:only-of-type {\n",
       "        vertical-align: middle;\n",
       "    }\n",
       "\n",
       "    .dataframe tbody tr th {\n",
       "        vertical-align: top;\n",
       "    }\n",
       "\n",
       "    .dataframe thead th {\n",
       "        text-align: right;\n",
       "    }\n",
       "</style>\n",
       "<table border=\"1\" class=\"dataframe\">\n",
       "  <thead>\n",
       "    <tr style=\"text-align: right;\">\n",
       "      <th></th>\n",
       "      <th>Modelo</th>\n",
       "      <th>Score Precision</th>\n",
       "    </tr>\n",
       "  </thead>\n",
       "  <tbody>\n",
       "    <tr>\n",
       "      <th>0</th>\n",
       "      <td>XGBoost</td>\n",
       "      <td>0.751542</td>\n",
       "    </tr>\n",
       "    <tr>\n",
       "      <th>1</th>\n",
       "      <td>GradientBoosting</td>\n",
       "      <td>0.748248</td>\n",
       "    </tr>\n",
       "    <tr>\n",
       "      <th>2</th>\n",
       "      <td>Ada Boost</td>\n",
       "      <td>0.742303</td>\n",
       "    </tr>\n",
       "    <tr>\n",
       "      <th>3</th>\n",
       "      <td>Voting soft</td>\n",
       "      <td>0.742004</td>\n",
       "    </tr>\n",
       "    <tr>\n",
       "      <th>4</th>\n",
       "      <td>Bagging DT</td>\n",
       "      <td>0.733127</td>\n",
       "    </tr>\n",
       "    <tr>\n",
       "      <th>5</th>\n",
       "      <td>Voting hard</td>\n",
       "      <td>0.726998</td>\n",
       "    </tr>\n",
       "    <tr>\n",
       "      <th>6</th>\n",
       "      <td>Arbol de decision</td>\n",
       "      <td>0.722522</td>\n",
       "    </tr>\n",
       "    <tr>\n",
       "      <th>7</th>\n",
       "      <td>Random Forest</td>\n",
       "      <td>0.715711</td>\n",
       "    </tr>\n",
       "    <tr>\n",
       "      <th>8</th>\n",
       "      <td>Logistic Regresion</td>\n",
       "      <td>0.613467</td>\n",
       "    </tr>\n",
       "    <tr>\n",
       "      <th>9</th>\n",
       "      <td>Vector soporte</td>\n",
       "      <td>0.613467</td>\n",
       "    </tr>\n",
       "  </tbody>\n",
       "</table>\n",
       "</div>"
      ],
      "text/plain": [
       "               Modelo  Score Precision\n",
       "0             XGBoost         0.751542\n",
       "1    GradientBoosting         0.748248\n",
       "2           Ada Boost         0.742303\n",
       "3         Voting soft         0.742004\n",
       "4          Bagging DT         0.733127\n",
       "5         Voting hard         0.726998\n",
       "6   Arbol de decision         0.722522\n",
       "7       Random Forest         0.715711\n",
       "8  Logistic Regresion         0.613467\n",
       "9      Vector soporte         0.613467"
      ]
     },
     "execution_count": 309,
     "metadata": {},
     "output_type": "execute_result"
    }
   ],
   "source": [
    "result_prec= pd.DataFrame(resultados_precision)\n",
    "result_prec=result_prec.reset_index()\n",
    "result_prec.rename(columns={\"index\":\"Modelo\",0:\"Score Precision\"},\n",
    "               inplace=True)\n",
    "result_prec"
   ]
  },
  {
   "cell_type": "code",
   "execution_count": 310,
   "metadata": {},
   "outputs": [],
   "source": [
    "result_prec.to_csv(\"CSV/Precision modelos clasificacion.csv\", sep=\",\", index = True)"
   ]
  },
  {
   "cell_type": "code",
   "execution_count": 31,
   "metadata": {},
   "outputs": [],
   "source": [
    "#PREPARACION MES ENERO DE 2023 QUE SERÁ NUESTRO OBJETO DE PREDICCION\n",
    "t2023=total1.loc[2023]\n",
    "game=t2023[\"Game\"]\n",
    "t2023=t2023.drop([\"Game\",\"Month\"], axis=1)"
   ]
  },
  {
   "cell_type": "code",
   "execution_count": 312,
   "metadata": {},
   "outputs": [],
   "source": [
    "rf= RandomForestClassifier()\n",
    "rf.fit(X_train, y_train)\n",
    "r=rf.feature_importances_"
   ]
  },
  {
   "cell_type": "code",
   "execution_count": 313,
   "metadata": {},
   "outputs": [
    {
     "data": {
      "text/plain": [
       "Hours_Streamed    0.177451\n",
       "Peak_channels     0.151802\n",
       "Hours_watched     0.139624\n",
       "Avg_viewers       0.136912\n",
       "Streamers         0.135472\n",
       "Peak_viewers      0.129489\n",
       "Avg_channels      0.129251\n",
       "dtype: float64"
      ]
     },
     "execution_count": 313,
     "metadata": {},
     "output_type": "execute_result"
    }
   ],
   "source": [
    "#FEATURE IMPORTANCE DE LAS COLUMNAS DE RANDOM FOREST\n",
    "c=['Hours_watched','Hours_Streamed','Peak_viewers','Peak_channels','Streamers','Avg_viewers','Avg_channels']\n",
    "feature_importance_clasificacion = pd.Series(r, c).sort_values(ascending=False)\n",
    "feature_importance_clasificacion"
   ]
  },
  {
   "cell_type": "code",
   "execution_count": 314,
   "metadata": {},
   "outputs": [
    {
     "data": {
      "text/html": [
       "<div>\n",
       "<style scoped>\n",
       "    .dataframe tbody tr th:only-of-type {\n",
       "        vertical-align: middle;\n",
       "    }\n",
       "\n",
       "    .dataframe tbody tr th {\n",
       "        vertical-align: top;\n",
       "    }\n",
       "\n",
       "    .dataframe thead th {\n",
       "        text-align: right;\n",
       "    }\n",
       "</style>\n",
       "<table border=\"1\" class=\"dataframe\">\n",
       "  <thead>\n",
       "    <tr style=\"text-align: right;\">\n",
       "      <th></th>\n",
       "      <th>Columna</th>\n",
       "      <th>Feature_importance</th>\n",
       "    </tr>\n",
       "  </thead>\n",
       "  <tbody>\n",
       "    <tr>\n",
       "      <th>0</th>\n",
       "      <td>Hours_Streamed</td>\n",
       "      <td>0.177451</td>\n",
       "    </tr>\n",
       "    <tr>\n",
       "      <th>1</th>\n",
       "      <td>Peak_channels</td>\n",
       "      <td>0.151802</td>\n",
       "    </tr>\n",
       "    <tr>\n",
       "      <th>2</th>\n",
       "      <td>Hours_watched</td>\n",
       "      <td>0.139624</td>\n",
       "    </tr>\n",
       "    <tr>\n",
       "      <th>3</th>\n",
       "      <td>Avg_viewers</td>\n",
       "      <td>0.136912</td>\n",
       "    </tr>\n",
       "    <tr>\n",
       "      <th>4</th>\n",
       "      <td>Streamers</td>\n",
       "      <td>0.135472</td>\n",
       "    </tr>\n",
       "    <tr>\n",
       "      <th>5</th>\n",
       "      <td>Peak_viewers</td>\n",
       "      <td>0.129489</td>\n",
       "    </tr>\n",
       "    <tr>\n",
       "      <th>6</th>\n",
       "      <td>Avg_channels</td>\n",
       "      <td>0.129251</td>\n",
       "    </tr>\n",
       "  </tbody>\n",
       "</table>\n",
       "</div>"
      ],
      "text/plain": [
       "          Columna  Feature_importance\n",
       "0  Hours_Streamed            0.177451\n",
       "1   Peak_channels            0.151802\n",
       "2   Hours_watched            0.139624\n",
       "3     Avg_viewers            0.136912\n",
       "4       Streamers            0.135472\n",
       "5    Peak_viewers            0.129489\n",
       "6    Avg_channels            0.129251"
      ]
     },
     "execution_count": 314,
     "metadata": {},
     "output_type": "execute_result"
    }
   ],
   "source": [
    "feature_imp_clas= pd.DataFrame(feature_importance_clasificacion)\n",
    "feature_imp_clas=feature_imp_clas.reset_index()\n",
    "feature_imp_clas.rename(columns={\"index\":\"Columna\",0:\"Feature_importance\"},\n",
    "               inplace=True)\n",
    "feature_imp_clas"
   ]
  },
  {
   "cell_type": "code",
   "execution_count": 315,
   "metadata": {},
   "outputs": [],
   "source": [
    "feature_imp_clas.to_csv(\"CSV/Feature importance Clasificacion.csv\", sep=\",\", index = True)"
   ]
  },
  {
   "cell_type": "code",
   "execution_count": 316,
   "metadata": {},
   "outputs": [
    {
     "data": {
      "text/plain": [
       "{'max_depth': 6, 'min_samples_leaf': 2}"
      ]
     },
     "execution_count": 316,
     "metadata": {},
     "output_type": "execute_result"
    }
   ],
   "source": [
    "gb_c.best_params_"
   ]
  },
  {
   "cell_type": "code",
   "execution_count": 62,
   "metadata": {},
   "outputs": [
    {
     "data": {
      "text/plain": [
       "XGBClassifier(base_score=0.5, booster='gbtree', callbacks=None,\n",
       "              colsample_bylevel=1, colsample_bynode=1, colsample_bytree=1,\n",
       "              early_stopping_rounds=None, enable_categorical=False,\n",
       "              eval_metric=None, gamma=0, gpu_id=-1, grow_policy='depthwise',\n",
       "              importance_type=None, interaction_constraints='',\n",
       "              learning_rate=0.300000012, max_bin=256, max_cat_to_onehot=4,\n",
       "              max_delta_step=0, max_depth=6, max_leaves=0, min_child_weight=1,\n",
       "              missing=nan, monotone_constraints='()', n_estimators=100,\n",
       "              n_jobs=0, num_parallel_tree=1, predictor='auto', random_state=0,\n",
       "              reg_alpha=0, reg_lambda=1, ...)"
      ]
     },
     "execution_count": 62,
     "metadata": {},
     "output_type": "execute_result"
    }
   ],
   "source": [
    "#HACEMOS UN GRADIENTBOOSTINGCLASSIFIER\n",
    "muestra_std_gb = scaler.transform(t2023)\n",
    "xgb= XGBClassifier(n_estimators=100, use_label_encoder=False)\n",
    "gb_c=xgb.fit(X_train, y_train)\n",
    "prediccion_df_gb=xgb.predict(muestra_std_gb)\n",
    "prediccion_df_xgb=xgb.predict(muestra_std_gb)\n",
    "\n",
    "gb_c\n",
    "\n"
   ]
  },
  {
   "cell_type": "code",
   "execution_count": 364,
   "metadata": {},
   "outputs": [
    {
     "data": {
      "text/plain": [
       "['modelo_XGBoostClassifier_entrenado.pkl']"
      ]
     },
     "execution_count": 364,
     "metadata": {},
     "output_type": "execute_result"
    }
   ],
   "source": [
    "joblib.dump(xgb, 'modelo_XGBoostClassifier_entrenado.pkl')"
   ]
  },
  {
   "cell_type": "code",
   "execution_count": 33,
   "metadata": {},
   "outputs": [
    {
     "data": {
      "text/html": [
       "<div>\n",
       "<style scoped>\n",
       "    .dataframe tbody tr th:only-of-type {\n",
       "        vertical-align: middle;\n",
       "    }\n",
       "\n",
       "    .dataframe tbody tr th {\n",
       "        vertical-align: top;\n",
       "    }\n",
       "\n",
       "    .dataframe thead th {\n",
       "        text-align: right;\n",
       "    }\n",
       "</style>\n",
       "<table border=\"1\" class=\"dataframe\">\n",
       "  <thead>\n",
       "    <tr style=\"text-align: right;\">\n",
       "      <th></th>\n",
       "      <th>Clas. Binaria</th>\n",
       "      <th>Clas. Binaria</th>\n",
       "      <th>Target</th>\n",
       "    </tr>\n",
       "  </thead>\n",
       "  <tbody>\n",
       "    <tr>\n",
       "      <th>0</th>\n",
       "      <td>0</td>\n",
       "      <td>1</td>\n",
       "      <td>8492</td>\n",
       "    </tr>\n",
       "    <tr>\n",
       "      <th>1</th>\n",
       "      <td>1</td>\n",
       "      <td>0</td>\n",
       "      <td>5908</td>\n",
       "    </tr>\n",
       "  </tbody>\n",
       "</table>\n",
       "</div>"
      ],
      "text/plain": [
       "   Clas. Binaria  Clas. Binaria  Target\n",
       "0              0              1    8492\n",
       "1              1              0    5908"
      ]
     },
     "execution_count": 33,
     "metadata": {},
     "output_type": "execute_result"
    }
   ],
   "source": [
    "target_rec= df[\"Target\"].value_counts()\n",
    "target_recrecuento= pd.DataFrame(target_rec)\n",
    "recuento=recuento.reset_index()\n",
    "recuento.rename(columns={\"index\":\"Clas. Binaria\",0:\"Recuento\"},\n",
    "               inplace=True)\n",
    "recuento"
   ]
  },
  {
   "cell_type": "code",
   "execution_count": 63,
   "metadata": {},
   "outputs": [
    {
     "data": {
      "text/html": [
       "<div>\n",
       "<style scoped>\n",
       "    .dataframe tbody tr th:only-of-type {\n",
       "        vertical-align: middle;\n",
       "    }\n",
       "\n",
       "    .dataframe tbody tr th {\n",
       "        vertical-align: top;\n",
       "    }\n",
       "\n",
       "    .dataframe thead th {\n",
       "        text-align: right;\n",
       "    }\n",
       "</style>\n",
       "<table border=\"1\" class=\"dataframe\">\n",
       "  <thead>\n",
       "    <tr style=\"text-align: right;\">\n",
       "      <th></th>\n",
       "      <th>0</th>\n",
       "    </tr>\n",
       "  </thead>\n",
       "  <tbody>\n",
       "    <tr>\n",
       "      <th>0</th>\n",
       "      <td>1</td>\n",
       "    </tr>\n",
       "    <tr>\n",
       "      <th>1</th>\n",
       "      <td>1</td>\n",
       "    </tr>\n",
       "    <tr>\n",
       "      <th>2</th>\n",
       "      <td>1</td>\n",
       "    </tr>\n",
       "    <tr>\n",
       "      <th>3</th>\n",
       "      <td>1</td>\n",
       "    </tr>\n",
       "    <tr>\n",
       "      <th>4</th>\n",
       "      <td>1</td>\n",
       "    </tr>\n",
       "    <tr>\n",
       "      <th>...</th>\n",
       "      <td>...</td>\n",
       "    </tr>\n",
       "    <tr>\n",
       "      <th>195</th>\n",
       "      <td>1</td>\n",
       "    </tr>\n",
       "    <tr>\n",
       "      <th>196</th>\n",
       "      <td>1</td>\n",
       "    </tr>\n",
       "    <tr>\n",
       "      <th>197</th>\n",
       "      <td>1</td>\n",
       "    </tr>\n",
       "    <tr>\n",
       "      <th>198</th>\n",
       "      <td>0</td>\n",
       "    </tr>\n",
       "    <tr>\n",
       "      <th>199</th>\n",
       "      <td>1</td>\n",
       "    </tr>\n",
       "  </tbody>\n",
       "</table>\n",
       "<p>200 rows × 1 columns</p>\n",
       "</div>"
      ],
      "text/plain": [
       "     0\n",
       "0    1\n",
       "1    1\n",
       "2    1\n",
       "3    1\n",
       "4    1\n",
       "..  ..\n",
       "195  1\n",
       "196  1\n",
       "197  1\n",
       "198  0\n",
       "199  1\n",
       "\n",
       "[200 rows x 1 columns]"
      ]
     },
     "execution_count": 63,
     "metadata": {},
     "output_type": "execute_result"
    }
   ],
   "source": [
    "prediccion_df_xgb=pd.DataFrame(prediccion_df_xgb)\n",
    "prediccion_df_xgb"
   ]
  },
  {
   "cell_type": "code",
   "execution_count": 35,
   "metadata": {},
   "outputs": [
    {
     "data": {
      "text/html": [
       "<div>\n",
       "<style scoped>\n",
       "    .dataframe tbody tr th:only-of-type {\n",
       "        vertical-align: middle;\n",
       "    }\n",
       "\n",
       "    .dataframe tbody tr th {\n",
       "        vertical-align: top;\n",
       "    }\n",
       "\n",
       "    .dataframe thead th {\n",
       "        text-align: right;\n",
       "    }\n",
       "</style>\n",
       "<table border=\"1\" class=\"dataframe\">\n",
       "  <thead>\n",
       "    <tr style=\"text-align: right;\">\n",
       "      <th></th>\n",
       "      <th>Clas. Binaria</th>\n",
       "      <th>Recuento</th>\n",
       "    </tr>\n",
       "  </thead>\n",
       "  <tbody>\n",
       "    <tr>\n",
       "      <th>0</th>\n",
       "      <td>1</td>\n",
       "      <td>151</td>\n",
       "    </tr>\n",
       "    <tr>\n",
       "      <th>1</th>\n",
       "      <td>0</td>\n",
       "      <td>49</td>\n",
       "    </tr>\n",
       "  </tbody>\n",
       "</table>\n",
       "</div>"
      ],
      "text/plain": [
       "   Clas. Binaria  Recuento\n",
       "0              1       151\n",
       "1              0        49"
      ]
     },
     "execution_count": 35,
     "metadata": {},
     "output_type": "execute_result"
    }
   ],
   "source": [
    "#CREAMOS DATAFRAME CON LA PREDICCION DE MIS JUEGOS DE ENERO SI SEGUIRÁN EN ENERO DE 2024\n",
    "prediccion_clase_enero= pd.DataFrame(prediccion_df_gb)\n",
    "prediccion_clase_enero=prediccion_clase_enero.reset_index()\n",
    "prediccion_clase_enero.rename(columns={\"index\":\"Clas. Binaria\",0:\"Recuento\"},\n",
    "               inplace=True)\n",
    "prediccion_clase_enero\n"
   ]
  },
  {
   "cell_type": "code",
   "execution_count": 64,
   "metadata": {},
   "outputs": [
    {
     "data": {
      "text/html": [
       "<div>\n",
       "<style scoped>\n",
       "    .dataframe tbody tr th:only-of-type {\n",
       "        vertical-align: middle;\n",
       "    }\n",
       "\n",
       "    .dataframe tbody tr th {\n",
       "        vertical-align: top;\n",
       "    }\n",
       "\n",
       "    .dataframe thead th {\n",
       "        text-align: right;\n",
       "    }\n",
       "</style>\n",
       "<table border=\"1\" class=\"dataframe\">\n",
       "  <thead>\n",
       "    <tr style=\"text-align: right;\">\n",
       "      <th></th>\n",
       "      <th>Prediccion enero 2024:1 seguirá/0 no seguirá</th>\n",
       "    </tr>\n",
       "  </thead>\n",
       "  <tbody>\n",
       "    <tr>\n",
       "      <th>0</th>\n",
       "      <td>1</td>\n",
       "    </tr>\n",
       "    <tr>\n",
       "      <th>1</th>\n",
       "      <td>1</td>\n",
       "    </tr>\n",
       "    <tr>\n",
       "      <th>2</th>\n",
       "      <td>1</td>\n",
       "    </tr>\n",
       "    <tr>\n",
       "      <th>3</th>\n",
       "      <td>1</td>\n",
       "    </tr>\n",
       "    <tr>\n",
       "      <th>4</th>\n",
       "      <td>1</td>\n",
       "    </tr>\n",
       "    <tr>\n",
       "      <th>...</th>\n",
       "      <td>...</td>\n",
       "    </tr>\n",
       "    <tr>\n",
       "      <th>195</th>\n",
       "      <td>1</td>\n",
       "    </tr>\n",
       "    <tr>\n",
       "      <th>196</th>\n",
       "      <td>1</td>\n",
       "    </tr>\n",
       "    <tr>\n",
       "      <th>197</th>\n",
       "      <td>1</td>\n",
       "    </tr>\n",
       "    <tr>\n",
       "      <th>198</th>\n",
       "      <td>0</td>\n",
       "    </tr>\n",
       "    <tr>\n",
       "      <th>199</th>\n",
       "      <td>1</td>\n",
       "    </tr>\n",
       "  </tbody>\n",
       "</table>\n",
       "<p>200 rows × 1 columns</p>\n",
       "</div>"
      ],
      "text/plain": [
       "     Prediccion enero 2024:1 seguirá/0 no seguirá\n",
       "0                                               1\n",
       "1                                               1\n",
       "2                                               1\n",
       "3                                               1\n",
       "4                                               1\n",
       "..                                            ...\n",
       "195                                             1\n",
       "196                                             1\n",
       "197                                             1\n",
       "198                                             0\n",
       "199                                             1\n",
       "\n",
       "[200 rows x 1 columns]"
      ]
     },
     "execution_count": 64,
     "metadata": {},
     "output_type": "execute_result"
    }
   ],
   "source": [
    "prediccion_clas_2023= pd.DataFrame(prediccion_df_xgb)\n",
    "prediccion_clas_2023.rename(columns={0:\"Prediccion enero 2024:1 seguirá/0 no seguirá\"},\n",
    "               inplace=True)\n",
    "prediccion_clas_2023"
   ]
  },
  {
   "cell_type": "code",
   "execution_count": 36,
   "metadata": {},
   "outputs": [],
   "source": [
    "prediccion_clase_enero.to_csv(\"CSV/Recuento prediccion 1 y 0 enero 2024.csv\", sep=\",\", index = True)"
   ]
  },
  {
   "cell_type": "code",
   "execution_count": 37,
   "metadata": {},
   "outputs": [],
   "source": [
    "enero=t2023.reset_index()"
   ]
  },
  {
   "cell_type": "code",
   "execution_count": 38,
   "metadata": {},
   "outputs": [
    {
     "data": {
      "text/html": [
       "<div>\n",
       "<style scoped>\n",
       "    .dataframe tbody tr th:only-of-type {\n",
       "        vertical-align: middle;\n",
       "    }\n",
       "\n",
       "    .dataframe tbody tr th {\n",
       "        vertical-align: top;\n",
       "    }\n",
       "\n",
       "    .dataframe thead th {\n",
       "        text-align: right;\n",
       "    }\n",
       "</style>\n",
       "<table border=\"1\" class=\"dataframe\">\n",
       "  <thead>\n",
       "    <tr style=\"text-align: right;\">\n",
       "      <th></th>\n",
       "      <th>Game</th>\n",
       "    </tr>\n",
       "  </thead>\n",
       "  <tbody>\n",
       "    <tr>\n",
       "      <th>0</th>\n",
       "      <td>Just Chatting</td>\n",
       "    </tr>\n",
       "    <tr>\n",
       "      <th>1</th>\n",
       "      <td>League of Legends</td>\n",
       "    </tr>\n",
       "    <tr>\n",
       "      <th>2</th>\n",
       "      <td>Escape from Tarkov</td>\n",
       "    </tr>\n",
       "    <tr>\n",
       "      <th>3</th>\n",
       "      <td>Grand Theft Auto V</td>\n",
       "    </tr>\n",
       "    <tr>\n",
       "      <th>4</th>\n",
       "      <td>VALORANT</td>\n",
       "    </tr>\n",
       "    <tr>\n",
       "      <th>...</th>\n",
       "      <td>...</td>\n",
       "    </tr>\n",
       "    <tr>\n",
       "      <th>195</th>\n",
       "      <td>Tom Clancy's The Division 2</td>\n",
       "    </tr>\n",
       "    <tr>\n",
       "      <th>196</th>\n",
       "      <td>Persona 5 Royal</td>\n",
       "    </tr>\n",
       "    <tr>\n",
       "      <th>197</th>\n",
       "      <td>Bloodborne</td>\n",
       "    </tr>\n",
       "    <tr>\n",
       "      <th>198</th>\n",
       "      <td>PowerWash Simulator</td>\n",
       "    </tr>\n",
       "    <tr>\n",
       "      <th>199</th>\n",
       "      <td>Eternal Return</td>\n",
       "    </tr>\n",
       "  </tbody>\n",
       "</table>\n",
       "<p>200 rows × 1 columns</p>\n",
       "</div>"
      ],
      "text/plain": [
       "                            Game\n",
       "0                  Just Chatting\n",
       "1              League of Legends\n",
       "2             Escape from Tarkov\n",
       "3             Grand Theft Auto V\n",
       "4                       VALORANT\n",
       "..                           ...\n",
       "195  Tom Clancy's The Division 2\n",
       "196              Persona 5 Royal\n",
       "197                   Bloodborne\n",
       "198          PowerWash Simulator\n",
       "199               Eternal Return\n",
       "\n",
       "[200 rows x 1 columns]"
      ]
     },
     "execution_count": 38,
     "metadata": {},
     "output_type": "execute_result"
    }
   ],
   "source": [
    "game=game.reset_index()\n",
    "game=game.drop([\"Year\"],axis=1)\n",
    "game"
   ]
  },
  {
   "cell_type": "code",
   "execution_count": 118,
   "metadata": {},
   "outputs": [],
   "source": [
    "df_enero=pd.concat([enero,prediccion_clas_2023,game], axis=1)\n",
    "df_enero=df_enero.drop([\"Year\",\"Hours_Streamed\",\"Peak_viewers\",\t\"Peak_channels\",\"Streamers\",\"Avg_viewers\",\"Avg_channels\"],axis=1)"
   ]
  },
  {
   "cell_type": "code",
   "execution_count": 119,
   "metadata": {},
   "outputs": [],
   "source": [
    "df_enero.set_index([\"Game\"],inplace=True)\n"
   ]
  },
  {
   "cell_type": "code",
   "execution_count": 120,
   "metadata": {},
   "outputs": [
    {
     "data": {
      "text/html": [
       "<div>\n",
       "<style scoped>\n",
       "    .dataframe tbody tr th:only-of-type {\n",
       "        vertical-align: middle;\n",
       "    }\n",
       "\n",
       "    .dataframe tbody tr th {\n",
       "        vertical-align: top;\n",
       "    }\n",
       "\n",
       "    .dataframe thead th {\n",
       "        text-align: right;\n",
       "    }\n",
       "</style>\n",
       "<table border=\"1\" class=\"dataframe\">\n",
       "  <thead>\n",
       "    <tr style=\"text-align: right;\">\n",
       "      <th></th>\n",
       "      <th>Hours_watched</th>\n",
       "      <th>Prediccion enero 2024:1 seguirá/0 no seguirá</th>\n",
       "    </tr>\n",
       "    <tr>\n",
       "      <th>Game</th>\n",
       "      <th></th>\n",
       "      <th></th>\n",
       "    </tr>\n",
       "  </thead>\n",
       "  <tbody>\n",
       "    <tr>\n",
       "      <th>Just Chatting</th>\n",
       "      <td>264212906</td>\n",
       "      <td>1</td>\n",
       "    </tr>\n",
       "    <tr>\n",
       "      <th>League of Legends</th>\n",
       "      <td>126494155</td>\n",
       "      <td>1</td>\n",
       "    </tr>\n",
       "    <tr>\n",
       "      <th>Escape from Tarkov</th>\n",
       "      <td>113747925</td>\n",
       "      <td>1</td>\n",
       "    </tr>\n",
       "    <tr>\n",
       "      <th>Grand Theft Auto V</th>\n",
       "      <td>111789032</td>\n",
       "      <td>1</td>\n",
       "    </tr>\n",
       "    <tr>\n",
       "      <th>VALORANT</th>\n",
       "      <td>80943179</td>\n",
       "      <td>1</td>\n",
       "    </tr>\n",
       "    <tr>\n",
       "      <th>...</th>\n",
       "      <td>...</td>\n",
       "      <td>...</td>\n",
       "    </tr>\n",
       "    <tr>\n",
       "      <th>Tom Clancy's The Division 2</th>\n",
       "      <td>666943</td>\n",
       "      <td>1</td>\n",
       "    </tr>\n",
       "    <tr>\n",
       "      <th>Persona 5 Royal</th>\n",
       "      <td>664503</td>\n",
       "      <td>1</td>\n",
       "    </tr>\n",
       "    <tr>\n",
       "      <th>Bloodborne</th>\n",
       "      <td>663078</td>\n",
       "      <td>1</td>\n",
       "    </tr>\n",
       "    <tr>\n",
       "      <th>PowerWash Simulator</th>\n",
       "      <td>657644</td>\n",
       "      <td>0</td>\n",
       "    </tr>\n",
       "    <tr>\n",
       "      <th>Eternal Return</th>\n",
       "      <td>642217</td>\n",
       "      <td>1</td>\n",
       "    </tr>\n",
       "  </tbody>\n",
       "</table>\n",
       "<p>200 rows × 2 columns</p>\n",
       "</div>"
      ],
      "text/plain": [
       "                             Hours_watched  \\\n",
       "Game                                         \n",
       "Just Chatting                    264212906   \n",
       "League of Legends                126494155   \n",
       "Escape from Tarkov               113747925   \n",
       "Grand Theft Auto V               111789032   \n",
       "VALORANT                          80943179   \n",
       "...                                    ...   \n",
       "Tom Clancy's The Division 2         666943   \n",
       "Persona 5 Royal                     664503   \n",
       "Bloodborne                          663078   \n",
       "PowerWash Simulator                 657644   \n",
       "Eternal Return                      642217   \n",
       "\n",
       "                             Prediccion enero 2024:1 seguirá/0 no seguirá  \n",
       "Game                                                                       \n",
       "Just Chatting                                                           1  \n",
       "League of Legends                                                       1  \n",
       "Escape from Tarkov                                                      1  \n",
       "Grand Theft Auto V                                                      1  \n",
       "VALORANT                                                                1  \n",
       "...                                                                   ...  \n",
       "Tom Clancy's The Division 2                                             1  \n",
       "Persona 5 Royal                                                         1  \n",
       "Bloodborne                                                              1  \n",
       "PowerWash Simulator                                                     0  \n",
       "Eternal Return                                                          1  \n",
       "\n",
       "[200 rows x 2 columns]"
      ]
     },
     "execution_count": 120,
     "metadata": {},
     "output_type": "execute_result"
    }
   ],
   "source": [
    "#DATAFRAME FINAL DE LA PREDICCION DE CLASIFICACION\n",
    "df_enero"
   ]
  },
  {
   "cell_type": "code",
   "execution_count": 68,
   "metadata": {},
   "outputs": [],
   "source": [
    "#HACER EL DATAFRAME PARA SERIE TEMPORAL = DEF_AÑO\n",
    "#HACER EL DATAFRAME PARA REGRESION LINEAL = DEF_REG\n",
    "df_reg_2=pd.concat([t2016,t2017,t2018,t2019,t2020,t2021])\n",
    "df_reg_2=df_reg_2.drop([\"Game\",\"Month\"], axis=1)\n"
   ]
  },
  {
   "cell_type": "code",
   "execution_count": 69,
   "metadata": {},
   "outputs": [
    {
     "data": {
      "text/html": [
       "<div>\n",
       "<style scoped>\n",
       "    .dataframe tbody tr th:only-of-type {\n",
       "        vertical-align: middle;\n",
       "    }\n",
       "\n",
       "    .dataframe tbody tr th {\n",
       "        vertical-align: top;\n",
       "    }\n",
       "\n",
       "    .dataframe thead th {\n",
       "        text-align: right;\n",
       "    }\n",
       "</style>\n",
       "<table border=\"1\" class=\"dataframe\">\n",
       "  <thead>\n",
       "    <tr style=\"text-align: right;\">\n",
       "      <th></th>\n",
       "      <th>Game</th>\n",
       "      <th>Month</th>\n",
       "      <th>Hours_watched</th>\n",
       "      <th>Hours_Streamed</th>\n",
       "      <th>Peak_viewers</th>\n",
       "      <th>Peak_channels</th>\n",
       "      <th>Streamers</th>\n",
       "      <th>Avg_viewers</th>\n",
       "      <th>Avg_channels</th>\n",
       "      <th>Target</th>\n",
       "      <th>Prevision_1_año_Hours_watched</th>\n",
       "    </tr>\n",
       "    <tr>\n",
       "      <th>Year</th>\n",
       "      <th></th>\n",
       "      <th></th>\n",
       "      <th></th>\n",
       "      <th></th>\n",
       "      <th></th>\n",
       "      <th></th>\n",
       "      <th></th>\n",
       "      <th></th>\n",
       "      <th></th>\n",
       "      <th></th>\n",
       "      <th></th>\n",
       "    </tr>\n",
       "  </thead>\n",
       "  <tbody>\n",
       "    <tr>\n",
       "      <th>2016</th>\n",
       "      <td>League of Legends</td>\n",
       "      <td>1</td>\n",
       "      <td>94377226</td>\n",
       "      <td>1362044</td>\n",
       "      <td>530270</td>\n",
       "      <td>2903</td>\n",
       "      <td>129172</td>\n",
       "      <td>127021</td>\n",
       "      <td>1833</td>\n",
       "      <td>1</td>\n",
       "      <td>99332369</td>\n",
       "    </tr>\n",
       "    <tr>\n",
       "      <th>2016</th>\n",
       "      <td>Counter-Strike: Global Offensive</td>\n",
       "      <td>1</td>\n",
       "      <td>47832863</td>\n",
       "      <td>830105</td>\n",
       "      <td>372654</td>\n",
       "      <td>2197</td>\n",
       "      <td>120849</td>\n",
       "      <td>64378</td>\n",
       "      <td>1117</td>\n",
       "      <td>1</td>\n",
       "      <td>72376812</td>\n",
       "    </tr>\n",
       "    <tr>\n",
       "      <th>2016</th>\n",
       "      <td>Dota 2</td>\n",
       "      <td>1</td>\n",
       "      <td>45185893</td>\n",
       "      <td>433397</td>\n",
       "      <td>315083</td>\n",
       "      <td>1100</td>\n",
       "      <td>44074</td>\n",
       "      <td>60815</td>\n",
       "      <td>583</td>\n",
       "      <td>1</td>\n",
       "      <td>39036428</td>\n",
       "    </tr>\n",
       "    <tr>\n",
       "      <th>2016</th>\n",
       "      <td>Hearthstone</td>\n",
       "      <td>1</td>\n",
       "      <td>39936159</td>\n",
       "      <td>235903</td>\n",
       "      <td>131357</td>\n",
       "      <td>517</td>\n",
       "      <td>36170</td>\n",
       "      <td>53749</td>\n",
       "      <td>317</td>\n",
       "      <td>1</td>\n",
       "      <td>37651061</td>\n",
       "    </tr>\n",
       "    <tr>\n",
       "      <th>2016</th>\n",
       "      <td>Call of Duty: Black Ops III</td>\n",
       "      <td>1</td>\n",
       "      <td>16153057</td>\n",
       "      <td>1151578</td>\n",
       "      <td>71639</td>\n",
       "      <td>3620</td>\n",
       "      <td>214054</td>\n",
       "      <td>21740</td>\n",
       "      <td>1549</td>\n",
       "      <td>1</td>\n",
       "      <td>1107967</td>\n",
       "    </tr>\n",
       "    <tr>\n",
       "      <th>...</th>\n",
       "      <td>...</td>\n",
       "      <td>...</td>\n",
       "      <td>...</td>\n",
       "      <td>...</td>\n",
       "      <td>...</td>\n",
       "      <td>...</td>\n",
       "      <td>...</td>\n",
       "      <td>...</td>\n",
       "      <td>...</td>\n",
       "      <td>...</td>\n",
       "      <td>...</td>\n",
       "    </tr>\n",
       "    <tr>\n",
       "      <th>2021</th>\n",
       "      <td>The Legend of Zelda: Ocarina of Time</td>\n",
       "      <td>12</td>\n",
       "      <td>704383</td>\n",
       "      <td>42476</td>\n",
       "      <td>87517</td>\n",
       "      <td>207</td>\n",
       "      <td>3282</td>\n",
       "      <td>948</td>\n",
       "      <td>57</td>\n",
       "      <td>1</td>\n",
       "      <td>922522</td>\n",
       "    </tr>\n",
       "    <tr>\n",
       "      <th>2021</th>\n",
       "      <td>Lineage 2</td>\n",
       "      <td>12</td>\n",
       "      <td>703241</td>\n",
       "      <td>50697</td>\n",
       "      <td>2722</td>\n",
       "      <td>192</td>\n",
       "      <td>1523</td>\n",
       "      <td>946</td>\n",
       "      <td>68</td>\n",
       "      <td>1</td>\n",
       "      <td>946848</td>\n",
       "    </tr>\n",
       "    <tr>\n",
       "      <th>2021</th>\n",
       "      <td>The Long Dark</td>\n",
       "      <td>12</td>\n",
       "      <td>688245</td>\n",
       "      <td>23176</td>\n",
       "      <td>9719</td>\n",
       "      <td>62</td>\n",
       "      <td>2486</td>\n",
       "      <td>926</td>\n",
       "      <td>31</td>\n",
       "      <td>1</td>\n",
       "      <td>624682</td>\n",
       "    </tr>\n",
       "    <tr>\n",
       "      <th>2021</th>\n",
       "      <td>Hades</td>\n",
       "      <td>12</td>\n",
       "      <td>656360</td>\n",
       "      <td>47075</td>\n",
       "      <td>27108</td>\n",
       "      <td>141</td>\n",
       "      <td>7287</td>\n",
       "      <td>883</td>\n",
       "      <td>63</td>\n",
       "      <td>1</td>\n",
       "      <td>927823</td>\n",
       "    </tr>\n",
       "    <tr>\n",
       "      <th>2021</th>\n",
       "      <td>Garry's Mod</td>\n",
       "      <td>12</td>\n",
       "      <td>630902</td>\n",
       "      <td>21753</td>\n",
       "      <td>24951</td>\n",
       "      <td>99</td>\n",
       "      <td>3537</td>\n",
       "      <td>849</td>\n",
       "      <td>29</td>\n",
       "      <td>1</td>\n",
       "      <td>697350</td>\n",
       "    </tr>\n",
       "  </tbody>\n",
       "</table>\n",
       "<p>8492 rows × 11 columns</p>\n",
       "</div>"
      ],
      "text/plain": [
       "                                      Game  Month  Hours_watched  \\\n",
       "Year                                                               \n",
       "2016                     League of Legends      1       94377226   \n",
       "2016      Counter-Strike: Global Offensive      1       47832863   \n",
       "2016                                Dota 2      1       45185893   \n",
       "2016                           Hearthstone      1       39936159   \n",
       "2016           Call of Duty: Black Ops III      1       16153057   \n",
       "...                                    ...    ...            ...   \n",
       "2021  The Legend of Zelda: Ocarina of Time     12         704383   \n",
       "2021                             Lineage 2     12         703241   \n",
       "2021                         The Long Dark     12         688245   \n",
       "2021                                 Hades     12         656360   \n",
       "2021                           Garry's Mod     12         630902   \n",
       "\n",
       "      Hours_Streamed  Peak_viewers  Peak_channels  Streamers  Avg_viewers  \\\n",
       "Year                                                                        \n",
       "2016         1362044        530270           2903     129172       127021   \n",
       "2016          830105        372654           2197     120849        64378   \n",
       "2016          433397        315083           1100      44074        60815   \n",
       "2016          235903        131357            517      36170        53749   \n",
       "2016         1151578         71639           3620     214054        21740   \n",
       "...              ...           ...            ...        ...          ...   \n",
       "2021           42476         87517            207       3282          948   \n",
       "2021           50697          2722            192       1523          946   \n",
       "2021           23176          9719             62       2486          926   \n",
       "2021           47075         27108            141       7287          883   \n",
       "2021           21753         24951             99       3537          849   \n",
       "\n",
       "      Avg_channels  Target  Prevision_1_año_Hours_watched  \n",
       "Year                                                       \n",
       "2016          1833       1                       99332369  \n",
       "2016          1117       1                       72376812  \n",
       "2016           583       1                       39036428  \n",
       "2016           317       1                       37651061  \n",
       "2016          1549       1                        1107967  \n",
       "...            ...     ...                            ...  \n",
       "2021            57       1                         922522  \n",
       "2021            68       1                         946848  \n",
       "2021            31       1                         624682  \n",
       "2021            63       1                         927823  \n",
       "2021            29       1                         697350  \n",
       "\n",
       "[8492 rows x 11 columns]"
      ]
     },
     "execution_count": 69,
     "metadata": {},
     "output_type": "execute_result"
    }
   ],
   "source": [
    "df_reg=df[df[\"Target\"]==1]\n",
    "df_reg[\"Prevision_1_año_Hours_watched\"]=Prevision_1_año_Hours_watched\n",
    "df_reg\n"
   ]
  },
  {
   "cell_type": "code",
   "execution_count": 70,
   "metadata": {},
   "outputs": [],
   "source": [
    "#NO ES SERIE TEMPORAL-- HACEMOS REGRESION LINEAL CUYO TARGET SERÁ HOURS WATCHED"
   ]
  },
  {
   "cell_type": "code",
   "execution_count": 71,
   "metadata": {},
   "outputs": [
    {
     "data": {
      "text/html": [
       "<div>\n",
       "<style scoped>\n",
       "    .dataframe tbody tr th:only-of-type {\n",
       "        vertical-align: middle;\n",
       "    }\n",
       "\n",
       "    .dataframe tbody tr th {\n",
       "        vertical-align: top;\n",
       "    }\n",
       "\n",
       "    .dataframe thead th {\n",
       "        text-align: right;\n",
       "    }\n",
       "</style>\n",
       "<table border=\"1\" class=\"dataframe\">\n",
       "  <thead>\n",
       "    <tr style=\"text-align: right;\">\n",
       "      <th></th>\n",
       "      <th>Game</th>\n",
       "      <th>Month</th>\n",
       "      <th>Hours_watched</th>\n",
       "      <th>Hours_Streamed</th>\n",
       "      <th>Peak_viewers</th>\n",
       "      <th>Peak_channels</th>\n",
       "      <th>Streamers</th>\n",
       "      <th>Avg_viewers</th>\n",
       "      <th>Avg_channels</th>\n",
       "      <th>Target</th>\n",
       "      <th>Prevision_1_año_Hours_watched</th>\n",
       "    </tr>\n",
       "    <tr>\n",
       "      <th>Year</th>\n",
       "      <th></th>\n",
       "      <th></th>\n",
       "      <th></th>\n",
       "      <th></th>\n",
       "      <th></th>\n",
       "      <th></th>\n",
       "      <th></th>\n",
       "      <th></th>\n",
       "      <th></th>\n",
       "      <th></th>\n",
       "      <th></th>\n",
       "    </tr>\n",
       "  </thead>\n",
       "  <tbody>\n",
       "    <tr>\n",
       "      <th>2016</th>\n",
       "      <td>League of Legends</td>\n",
       "      <td>1</td>\n",
       "      <td>94377226</td>\n",
       "      <td>1362044</td>\n",
       "      <td>530270</td>\n",
       "      <td>2903</td>\n",
       "      <td>129172</td>\n",
       "      <td>127021</td>\n",
       "      <td>1833</td>\n",
       "      <td>1</td>\n",
       "      <td>99332369</td>\n",
       "    </tr>\n",
       "    <tr>\n",
       "      <th>2016</th>\n",
       "      <td>Counter-Strike: Global Offensive</td>\n",
       "      <td>1</td>\n",
       "      <td>47832863</td>\n",
       "      <td>830105</td>\n",
       "      <td>372654</td>\n",
       "      <td>2197</td>\n",
       "      <td>120849</td>\n",
       "      <td>64378</td>\n",
       "      <td>1117</td>\n",
       "      <td>1</td>\n",
       "      <td>72376812</td>\n",
       "    </tr>\n",
       "    <tr>\n",
       "      <th>2016</th>\n",
       "      <td>Dota 2</td>\n",
       "      <td>1</td>\n",
       "      <td>45185893</td>\n",
       "      <td>433397</td>\n",
       "      <td>315083</td>\n",
       "      <td>1100</td>\n",
       "      <td>44074</td>\n",
       "      <td>60815</td>\n",
       "      <td>583</td>\n",
       "      <td>1</td>\n",
       "      <td>39036428</td>\n",
       "    </tr>\n",
       "    <tr>\n",
       "      <th>2016</th>\n",
       "      <td>Hearthstone</td>\n",
       "      <td>1</td>\n",
       "      <td>39936159</td>\n",
       "      <td>235903</td>\n",
       "      <td>131357</td>\n",
       "      <td>517</td>\n",
       "      <td>36170</td>\n",
       "      <td>53749</td>\n",
       "      <td>317</td>\n",
       "      <td>1</td>\n",
       "      <td>37651061</td>\n",
       "    </tr>\n",
       "    <tr>\n",
       "      <th>2016</th>\n",
       "      <td>Call of Duty: Black Ops III</td>\n",
       "      <td>1</td>\n",
       "      <td>16153057</td>\n",
       "      <td>1151578</td>\n",
       "      <td>71639</td>\n",
       "      <td>3620</td>\n",
       "      <td>214054</td>\n",
       "      <td>21740</td>\n",
       "      <td>1549</td>\n",
       "      <td>1</td>\n",
       "      <td>1107967</td>\n",
       "    </tr>\n",
       "    <tr>\n",
       "      <th>...</th>\n",
       "      <td>...</td>\n",
       "      <td>...</td>\n",
       "      <td>...</td>\n",
       "      <td>...</td>\n",
       "      <td>...</td>\n",
       "      <td>...</td>\n",
       "      <td>...</td>\n",
       "      <td>...</td>\n",
       "      <td>...</td>\n",
       "      <td>...</td>\n",
       "      <td>...</td>\n",
       "    </tr>\n",
       "    <tr>\n",
       "      <th>2021</th>\n",
       "      <td>The Legend of Zelda: Ocarina of Time</td>\n",
       "      <td>12</td>\n",
       "      <td>704383</td>\n",
       "      <td>42476</td>\n",
       "      <td>87517</td>\n",
       "      <td>207</td>\n",
       "      <td>3282</td>\n",
       "      <td>948</td>\n",
       "      <td>57</td>\n",
       "      <td>1</td>\n",
       "      <td>922522</td>\n",
       "    </tr>\n",
       "    <tr>\n",
       "      <th>2021</th>\n",
       "      <td>Lineage 2</td>\n",
       "      <td>12</td>\n",
       "      <td>703241</td>\n",
       "      <td>50697</td>\n",
       "      <td>2722</td>\n",
       "      <td>192</td>\n",
       "      <td>1523</td>\n",
       "      <td>946</td>\n",
       "      <td>68</td>\n",
       "      <td>1</td>\n",
       "      <td>946848</td>\n",
       "    </tr>\n",
       "    <tr>\n",
       "      <th>2021</th>\n",
       "      <td>The Long Dark</td>\n",
       "      <td>12</td>\n",
       "      <td>688245</td>\n",
       "      <td>23176</td>\n",
       "      <td>9719</td>\n",
       "      <td>62</td>\n",
       "      <td>2486</td>\n",
       "      <td>926</td>\n",
       "      <td>31</td>\n",
       "      <td>1</td>\n",
       "      <td>624682</td>\n",
       "    </tr>\n",
       "    <tr>\n",
       "      <th>2021</th>\n",
       "      <td>Hades</td>\n",
       "      <td>12</td>\n",
       "      <td>656360</td>\n",
       "      <td>47075</td>\n",
       "      <td>27108</td>\n",
       "      <td>141</td>\n",
       "      <td>7287</td>\n",
       "      <td>883</td>\n",
       "      <td>63</td>\n",
       "      <td>1</td>\n",
       "      <td>927823</td>\n",
       "    </tr>\n",
       "    <tr>\n",
       "      <th>2021</th>\n",
       "      <td>Garry's Mod</td>\n",
       "      <td>12</td>\n",
       "      <td>630902</td>\n",
       "      <td>21753</td>\n",
       "      <td>24951</td>\n",
       "      <td>99</td>\n",
       "      <td>3537</td>\n",
       "      <td>849</td>\n",
       "      <td>29</td>\n",
       "      <td>1</td>\n",
       "      <td>697350</td>\n",
       "    </tr>\n",
       "  </tbody>\n",
       "</table>\n",
       "<p>8492 rows × 11 columns</p>\n",
       "</div>"
      ],
      "text/plain": [
       "                                      Game  Month  Hours_watched  \\\n",
       "Year                                                               \n",
       "2016                     League of Legends      1       94377226   \n",
       "2016      Counter-Strike: Global Offensive      1       47832863   \n",
       "2016                                Dota 2      1       45185893   \n",
       "2016                           Hearthstone      1       39936159   \n",
       "2016           Call of Duty: Black Ops III      1       16153057   \n",
       "...                                    ...    ...            ...   \n",
       "2021  The Legend of Zelda: Ocarina of Time     12         704383   \n",
       "2021                             Lineage 2     12         703241   \n",
       "2021                         The Long Dark     12         688245   \n",
       "2021                                 Hades     12         656360   \n",
       "2021                           Garry's Mod     12         630902   \n",
       "\n",
       "      Hours_Streamed  Peak_viewers  Peak_channels  Streamers  Avg_viewers  \\\n",
       "Year                                                                        \n",
       "2016         1362044        530270           2903     129172       127021   \n",
       "2016          830105        372654           2197     120849        64378   \n",
       "2016          433397        315083           1100      44074        60815   \n",
       "2016          235903        131357            517      36170        53749   \n",
       "2016         1151578         71639           3620     214054        21740   \n",
       "...              ...           ...            ...        ...          ...   \n",
       "2021           42476         87517            207       3282          948   \n",
       "2021           50697          2722            192       1523          946   \n",
       "2021           23176          9719             62       2486          926   \n",
       "2021           47075         27108            141       7287          883   \n",
       "2021           21753         24951             99       3537          849   \n",
       "\n",
       "      Avg_channels  Target  Prevision_1_año_Hours_watched  \n",
       "Year                                                       \n",
       "2016          1833       1                       99332369  \n",
       "2016          1117       1                       72376812  \n",
       "2016           583       1                       39036428  \n",
       "2016           317       1                       37651061  \n",
       "2016          1549       1                        1107967  \n",
       "...            ...     ...                            ...  \n",
       "2021            57       1                         922522  \n",
       "2021            68       1                         946848  \n",
       "2021            31       1                         624682  \n",
       "2021            63       1                         927823  \n",
       "2021            29       1                         697350  \n",
       "\n",
       "[8492 rows x 11 columns]"
      ]
     },
     "execution_count": 71,
     "metadata": {},
     "output_type": "execute_result"
    }
   ],
   "source": [
    "df_reg"
   ]
  },
  {
   "cell_type": "code",
   "execution_count": 72,
   "metadata": {},
   "outputs": [
    {
     "data": {
      "text/plain": [
       "<AxesSubplot:>"
      ]
     },
     "execution_count": 72,
     "metadata": {},
     "output_type": "execute_result"
    },
    {
     "data": {
      "image/png": "[encoded data removed]",
      "text/plain": [
       "<Figure size 640x480 with 2 Axes>"
      ]
     },
     "metadata": {},
     "output_type": "display_data"
    }
   ],
   "source": [
    "#MATRIZ DE CORRELACION PREVISION HOURS WATCHED-- VEMOS QUE DEBO ELIMINAR AVG.VIEWERS, STREAMERS Y AVG. CHANNELS\n",
    "sns.heatmap(df_reg[['Prevision_1_año_Hours_watched','Hours_watched','Peak_viewers','Hours_Streamed','Peak_channels','Streamers','Avg_viewers','Avg_channels']].corr(), annot=True)"
   ]
  },
  {
   "cell_type": "code",
   "execution_count": 73,
   "metadata": {},
   "outputs": [
    {
     "data": {
      "text/plain": [
       "<AxesSubplot:>"
      ]
     },
     "execution_count": 73,
     "metadata": {},
     "output_type": "execute_result"
    },
    {
     "data": {
      "image/png": "[encoded data removed]",
      "text/plain": [
       "<Figure size 640x480 with 2 Axes>"
      ]
     },
     "metadata": {},
     "output_type": "display_data"
    }
   ],
   "source": [
    "#MATRIZ DE CORRELACION PARA PREVISION HOURS WATCHED \n",
    "sns.heatmap(df_reg[['Prevision_1_año_Hours_watched','Hours_watched','Peak_viewers','Hours_Streamed','Peak_channels']].corr(), annot=True)"
   ]
  },
  {
   "cell_type": "code",
   "execution_count": 74,
   "metadata": {},
   "outputs": [],
   "source": [
    "#OBETENER X_TRAIN,X_TEST,Y_TRAIN, Y_TEST -- TARGET=PREVISION HOURS_WATCHED 1 AÑO\n",
    "x_y=df_reg[['Hours_watched','Peak_viewers','Hours_Streamed','Peak_channels','Prevision_1_año_Hours_watched']]\n",
    "nueva_x_y= shuffle(x_y)\n",
    "\n",
    "X_reg_hours_watched = x_y[['Hours_watched','Peak_viewers','Hours_Streamed','Peak_channels']]\n",
    "y_reg_hours_watched = x_y['Prevision_1_año_Hours_watched']\n",
    "\n",
    "X_train_reg_hours_watched, X_test_reg_hours_watched, y_train_reg_hours_watched, y_test_reg_hours_watched = train_test_split(X_reg_hours_watched, y_reg_hours_watched, test_size=0.2, random_state=42)\n"
   ]
  },
  {
   "cell_type": "code",
   "execution_count": 75,
   "metadata": {},
   "outputs": [],
   "source": [
    "#ESTANDARIZACION \n",
    "scaler_reg = StandardScaler()\n",
    "\n",
    "X_train_reg_hours_watched_std = scaler_reg.fit_transform(X_train_reg_hours_watched)\n",
    "X_test_reg_hours_watched_std = scaler_reg.transform(X_test_reg_hours_watched)"
   ]
  },
  {
   "cell_type": "code",
   "execution_count": 76,
   "metadata": {},
   "outputs": [
    {
     "data": {
      "text/plain": [
       "0.6755242304358041"
      ]
     },
     "execution_count": 76,
     "metadata": {},
     "output_type": "execute_result"
    }
   ],
   "source": [
    "#LINEAR REGRESSION\n",
    "model = LinearRegression()\n",
    "model=model.fit(X_train_reg_hours_watched_std, y_train_reg_hours_watched)\n",
    "y_pred=model.predict(X_test_reg_hours_watched_std)\n",
    "results_lr=r2_score(y_test_reg_hours_watched, y_pred)\n",
    "results_lr"
   ]
  },
  {
   "cell_type": "code",
   "execution_count": 77,
   "metadata": {},
   "outputs": [
    {
     "data": {
      "text/plain": [
       "0.677866027635692"
      ]
     },
     "execution_count": 77,
     "metadata": {},
     "output_type": "execute_result"
    }
   ],
   "source": [
    "#REGULARIZADO CON RIDGE\n",
    "ridge = Ridge()\n",
    "parameters = {'alpha': [1e-15, 1e-10, 1e-8, 1e-4, 1e-3, 1e-2, 1, 5, 10, 20]} # 10 ALPHAS DIFERENTES\n",
    "ridge_regressor = GridSearchCV(ridge, parameters, cv=5, error_score=np.nan) # 5 trozos\n",
    "ridge_regressor=ridge_regressor.fit(X_train_reg_hours_watched_std, y_train_reg_hours_watched)\n",
    "y_pred = ridge_regressor.predict(X_test_reg_hours_watched_std)\n",
    "lr_ridge= r2_score(y_test_reg_hours_watched, y_pred)\n",
    "lr_ridge"
   ]
  },
  {
   "cell_type": "code",
   "execution_count": 78,
   "metadata": {},
   "outputs": [
    {
     "data": {
      "text/plain": [
       "0.6755253739515855"
      ]
     },
     "execution_count": 78,
     "metadata": {},
     "output_type": "execute_result"
    }
   ],
   "source": [
    "#REGULARIZADO CON LASSO\n",
    "lasso = Lasso()\n",
    "parameters = {'alpha': [1e-4, 1e-3, 1e-2, 1, 5, 10, 20]}\n",
    "lasso_regressor = GridSearchCV(lasso, parameters, cv=5, error_score=np.nan)\n",
    "lasso_regressor=lasso_regressor.fit(X_train_reg_hours_watched_std, y_train_reg_hours_watched)\n",
    "y_pred = lasso_regressor.predict(X_test_reg_hours_watched_std)\n",
    "lr_lasso= r2_score(y_test_reg_hours_watched, y_pred)\n",
    "lr_lasso"
   ]
  },
  {
   "cell_type": "code",
   "execution_count": 79,
   "metadata": {},
   "outputs": [
    {
     "data": {
      "text/plain": [
       "0.6288821309937402"
      ]
     },
     "execution_count": 79,
     "metadata": {},
     "output_type": "execute_result"
    }
   ],
   "source": [
    "#REGULARIZADO CON ELASTICNET\n",
    "elastic = ElasticNet(alpha=100, l1_ratio=0.99)\n",
    "elastic.fit(X_train_reg_hours_watched_std, y_train_reg_hours_watched)\n",
    "y_pred = elastic.predict(X_test_reg_hours_watched_std)\n",
    "lr_elastic=r2_score(y_test_reg_hours_watched, y_pred)\n",
    "lr_elastic\n"
   ]
  },
  {
   "cell_type": "code",
   "execution_count": 80,
   "metadata": {},
   "outputs": [
    {
     "data": {
      "text/plain": [
       "0.7410622942709442"
      ]
     },
     "execution_count": 80,
     "metadata": {},
     "output_type": "execute_result"
    }
   ],
   "source": [
    "#DECISION TREE REGRESSOR\n",
    "tree_reg1 = DecisionTreeRegressor() \n",
    "parameters = {'max_depth': [2,4,6],\n",
    "'min_samples_leaf': np.arange(1,4)}\n",
    "rf_reg_clf = GridSearchCV(tree_reg1,parameters, cv=5)\n",
    "rf_reg_clf=rf_reg_clf.fit(X_train_reg_hours_watched_std, y_train_reg_hours_watched)\n",
    "y_pred = rf_reg_clf.predict(X_test_reg_hours_watched_std)\n",
    "results_tr = r2_score(y_test_reg_hours_watched, y_pred)\n",
    "results_tr"
   ]
  },
  {
   "cell_type": "code",
   "execution_count": 81,
   "metadata": {},
   "outputs": [
    {
     "data": {
      "text/plain": [
       "0.7743716867345015"
      ]
     },
     "execution_count": 81,
     "metadata": {},
     "output_type": "execute_result"
    }
   ],
   "source": [
    "#GRADIENTBOOSTREGRESSOR\n",
    "from sklearn.ensemble import GradientBoostingRegressor\n",
    "gbrt_hours = GradientBoostingRegressor()\n",
    "parameters = {'max_depth': [2,4,6],\n",
    "'min_samples_leaf': np.arange(1,4)}\n",
    "gbrt_hours = GridSearchCV(gbrt_hours,parameters, cv=5)\n",
    "gbrt_hours.fit(X_train_reg_hours_watched_std, y_train_reg_hours_watched)\n",
    "y_pred = gbrt_hours.predict(X_test_reg_hours_watched_std)\n",
    "results_gbrt = r2_score(y_test_reg_hours_watched, y_pred)\n",
    "results_gbrt\n"
   ]
  },
  {
   "cell_type": "code",
   "execution_count": 82,
   "metadata": {},
   "outputs": [
    {
     "data": {
      "text/plain": [
       "0.7848720429142366"
      ]
     },
     "execution_count": 82,
     "metadata": {},
     "output_type": "execute_result"
    }
   ],
   "source": [
    "#XGBOSST REGRESSOR\n",
    "import xgboost\n",
    "xgb_reg_hours = xgboost.XGBRegressor()\n",
    "xgb_reg_hours=xgb_reg_hours.fit(X_train_reg_hours_watched_std, y_train_reg_hours_watched)\n",
    "y_pred = xgb_reg_hours.predict(X_test_reg_hours_watched_std)\n",
    "results_xgbr = r2_score(y_test_reg_hours_watched, y_pred)\n",
    "results_xgbr"
   ]
  },
  {
   "cell_type": "code",
   "execution_count": 83,
   "metadata": {},
   "outputs": [
    {
     "data": {
      "text/plain": [
       "XGBoost Regresor                0.784872\n",
       "Gradient Boost regresor         0.774372\n",
       "Arbol de regresion              0.741062\n",
       "Linear Regresion con Ridge      0.677866\n",
       "Linear Regresion con Lasso      0.675525\n",
       "Linear Regresion                0.675524\n",
       "Linear Regresion con Elastic    0.628882\n",
       "dtype: float64"
      ]
     },
     "execution_count": 83,
     "metadata": {},
     "output_type": "execute_result"
    }
   ],
   "source": [
    "resultados_regresion = [results_lr,lr_ridge,lr_lasso,lr_elastic,results_tr,results_gbrt, results_xgbr]\n",
    "algoritmos_regresion = [\"Linear Regresion\",\"Linear Regresion con Ridge\",\"Linear Regresion con Lasso\",\"Linear Regresion con Elastic\",\"Arbol de regresion\",\"Gradient Boost regresor\", \"XGBoost Regresor\"]\n",
    "\n",
    "result_regresion = pd.Series(resultados_regresion, algoritmos_regresion).sort_values(ascending=False)\n",
    "result_regresion"
   ]
  },
  {
   "cell_type": "code",
   "execution_count": 84,
   "metadata": {},
   "outputs": [
    {
     "data": {
      "text/html": [
       "<div>\n",
       "<style scoped>\n",
       "    .dataframe tbody tr th:only-of-type {\n",
       "        vertical-align: middle;\n",
       "    }\n",
       "\n",
       "    .dataframe tbody tr th {\n",
       "        vertical-align: top;\n",
       "    }\n",
       "\n",
       "    .dataframe thead th {\n",
       "        text-align: right;\n",
       "    }\n",
       "</style>\n",
       "<table border=\"1\" class=\"dataframe\">\n",
       "  <thead>\n",
       "    <tr style=\"text-align: right;\">\n",
       "      <th></th>\n",
       "      <th>Modelo</th>\n",
       "      <th>Score R2</th>\n",
       "    </tr>\n",
       "  </thead>\n",
       "  <tbody>\n",
       "    <tr>\n",
       "      <th>0</th>\n",
       "      <td>XGBoost Regresor</td>\n",
       "      <td>0.784872</td>\n",
       "    </tr>\n",
       "    <tr>\n",
       "      <th>1</th>\n",
       "      <td>Gradient Boost regresor</td>\n",
       "      <td>0.774372</td>\n",
       "    </tr>\n",
       "    <tr>\n",
       "      <th>2</th>\n",
       "      <td>Arbol de regresion</td>\n",
       "      <td>0.741062</td>\n",
       "    </tr>\n",
       "    <tr>\n",
       "      <th>3</th>\n",
       "      <td>Linear Regresion con Ridge</td>\n",
       "      <td>0.677866</td>\n",
       "    </tr>\n",
       "    <tr>\n",
       "      <th>4</th>\n",
       "      <td>Linear Regresion con Lasso</td>\n",
       "      <td>0.675525</td>\n",
       "    </tr>\n",
       "    <tr>\n",
       "      <th>5</th>\n",
       "      <td>Linear Regresion</td>\n",
       "      <td>0.675524</td>\n",
       "    </tr>\n",
       "    <tr>\n",
       "      <th>6</th>\n",
       "      <td>Linear Regresion con Elastic</td>\n",
       "      <td>0.628882</td>\n",
       "    </tr>\n",
       "  </tbody>\n",
       "</table>\n",
       "</div>"
      ],
      "text/plain": [
       "                         Modelo  Score R2\n",
       "0              XGBoost Regresor  0.784872\n",
       "1       Gradient Boost regresor  0.774372\n",
       "2            Arbol de regresion  0.741062\n",
       "3    Linear Regresion con Ridge  0.677866\n",
       "4    Linear Regresion con Lasso  0.675525\n",
       "5              Linear Regresion  0.675524\n",
       "6  Linear Regresion con Elastic  0.628882"
      ]
     },
     "execution_count": 84,
     "metadata": {},
     "output_type": "execute_result"
    }
   ],
   "source": [
    "resultado_regresion= pd.DataFrame(result_regresion)\n",
    "resultado_regresion=resultado_regresion.reset_index()\n",
    "resultado_regresion.rename(columns={\"index\":\"Modelo\",0:\"Score R2\"},\n",
    "               inplace=True)\n",
    "resultado_regresion"
   ]
  },
  {
   "cell_type": "code",
   "execution_count": 85,
   "metadata": {},
   "outputs": [],
   "source": [
    "resultado_regresion.to_csv(\"CSV/Score Regresion.csv\", sep=\",\", index = True)"
   ]
  },
  {
   "cell_type": "code",
   "execution_count": 121,
   "metadata": {},
   "outputs": [],
   "source": [
    "df_enero_reg=t2023[['Hours_watched','Peak_viewers','Hours_Streamed','Peak_channels']]"
   ]
  },
  {
   "cell_type": "code",
   "execution_count": 87,
   "metadata": {},
   "outputs": [
    {
     "name": "stdout",
     "output_type": "stream",
     "text": [
      "                0\n",
      "0    2.843109e+08\n",
      "1    1.424622e+08\n",
      "2    1.152563e+08\n",
      "3    1.153386e+08\n",
      "4    6.975830e+07\n",
      "..            ...\n",
      "195  1.086682e+06\n",
      "196  1.122340e+06\n",
      "197  1.128712e+06\n",
      "198  9.013369e+05\n",
      "199  1.014189e+06\n",
      "\n",
      "[200 rows x 1 columns]\n"
     ]
    }
   ],
   "source": [
    "#PREDICCION ENERO 2023 CON XGBOOST REGRESSOR\n",
    "\n",
    "muestra_reg_std = scaler_reg.transform(df_enero_reg)\n",
    "\n",
    "xgboost_r = xgboost.XGBRegressor()\n",
    "xgb_reg_hours=xgboost_r.fit(X_train_reg_hours_watched_std, y_train_reg_hours_watched)\n",
    "prediccion_XGBOOSTREG_2023= xgboost_r.predict(muestra_reg_std)\n",
    "prediccion_reg_df=pd.DataFrame(prediccion_XGBOOSTREG_2023)\n",
    "print(prediccion_reg_df)"
   ]
  },
  {
   "cell_type": "code",
   "execution_count": 88,
   "metadata": {},
   "outputs": [
    {
     "data": {
      "text/plain": [
       "['modelo_XGBoostRegressor_entrenado.pkl']"
      ]
     },
     "execution_count": 88,
     "metadata": {},
     "output_type": "execute_result"
    }
   ],
   "source": [
    "joblib.dump(xgboost_r, 'modelo_XGBoostRegressor_entrenado.pkl')"
   ]
  },
  {
   "cell_type": "code",
   "execution_count": 89,
   "metadata": {},
   "outputs": [
    {
     "data": {
      "text/plain": [
       "Hours_watched     0.831053\n",
       "Hours_Streamed    0.078639\n",
       "Peak_viewers      0.055489\n",
       "Peak_channels     0.034819\n",
       "dtype: float64"
      ]
     },
     "execution_count": 89,
     "metadata": {},
     "output_type": "execute_result"
    }
   ],
   "source": [
    "#FEATURE IMPORTANCE DE LAS COLUMNAS DE XGBOOST REGRESSOR\n",
    "dec= DecisionTreeRegressor()\n",
    "dec.fit(X_train_reg_hours_watched_std, y_train_reg_hours_watched)\n",
    "decision=dec.feature_importances_\n",
    "e=['Hours_watched','Peak_viewers','Hours_Streamed','Peak_channels']\n",
    "feature_importance_regresion = pd.Series(decision, e).sort_values(ascending=False)\n",
    "feature_importance_regresion"
   ]
  },
  {
   "cell_type": "code",
   "execution_count": 90,
   "metadata": {},
   "outputs": [
    {
     "data": {
      "text/html": [
       "<div>\n",
       "<style scoped>\n",
       "    .dataframe tbody tr th:only-of-type {\n",
       "        vertical-align: middle;\n",
       "    }\n",
       "\n",
       "    .dataframe tbody tr th {\n",
       "        vertical-align: top;\n",
       "    }\n",
       "\n",
       "    .dataframe thead th {\n",
       "        text-align: right;\n",
       "    }\n",
       "</style>\n",
       "<table border=\"1\" class=\"dataframe\">\n",
       "  <thead>\n",
       "    <tr style=\"text-align: right;\">\n",
       "      <th></th>\n",
       "      <th>Columna</th>\n",
       "      <th>Feature_importance</th>\n",
       "    </tr>\n",
       "  </thead>\n",
       "  <tbody>\n",
       "    <tr>\n",
       "      <th>0</th>\n",
       "      <td>Hours_watched</td>\n",
       "      <td>0.831053</td>\n",
       "    </tr>\n",
       "    <tr>\n",
       "      <th>1</th>\n",
       "      <td>Hours_Streamed</td>\n",
       "      <td>0.078639</td>\n",
       "    </tr>\n",
       "    <tr>\n",
       "      <th>2</th>\n",
       "      <td>Peak_viewers</td>\n",
       "      <td>0.055489</td>\n",
       "    </tr>\n",
       "    <tr>\n",
       "      <th>3</th>\n",
       "      <td>Peak_channels</td>\n",
       "      <td>0.034819</td>\n",
       "    </tr>\n",
       "  </tbody>\n",
       "</table>\n",
       "</div>"
      ],
      "text/plain": [
       "          Columna  Feature_importance\n",
       "0   Hours_watched            0.831053\n",
       "1  Hours_Streamed            0.078639\n",
       "2    Peak_viewers            0.055489\n",
       "3   Peak_channels            0.034819"
      ]
     },
     "execution_count": 90,
     "metadata": {},
     "output_type": "execute_result"
    }
   ],
   "source": [
    "feature_imp_reg= pd.DataFrame(feature_importance_regresion)\n",
    "feature_imp_reg=feature_imp_reg.reset_index()\n",
    "feature_imp_reg.rename(columns={\"index\":\"Columna\",0:\"Feature_importance\"},\n",
    "               inplace=True)\n",
    "feature_imp_reg"
   ]
  },
  {
   "cell_type": "code",
   "execution_count": 91,
   "metadata": {},
   "outputs": [],
   "source": [
    "feature_imp_reg.to_csv(\"CSV/Feature importance Regresion.csv\", sep=\",\", index = True)"
   ]
  },
  {
   "cell_type": "code",
   "execution_count": 92,
   "metadata": {},
   "outputs": [
    {
     "data": {
      "text/html": [
       "<div>\n",
       "<style scoped>\n",
       "    .dataframe tbody tr th:only-of-type {\n",
       "        vertical-align: middle;\n",
       "    }\n",
       "\n",
       "    .dataframe tbody tr th {\n",
       "        vertical-align: top;\n",
       "    }\n",
       "\n",
       "    .dataframe thead th {\n",
       "        text-align: right;\n",
       "    }\n",
       "</style>\n",
       "<table border=\"1\" class=\"dataframe\">\n",
       "  <thead>\n",
       "    <tr style=\"text-align: right;\">\n",
       "      <th></th>\n",
       "      <th>Hours Watched 2024</th>\n",
       "    </tr>\n",
       "  </thead>\n",
       "  <tbody>\n",
       "    <tr>\n",
       "      <th>0</th>\n",
       "      <td>2.843109e+08</td>\n",
       "    </tr>\n",
       "    <tr>\n",
       "      <th>1</th>\n",
       "      <td>1.424622e+08</td>\n",
       "    </tr>\n",
       "    <tr>\n",
       "      <th>2</th>\n",
       "      <td>1.152563e+08</td>\n",
       "    </tr>\n",
       "    <tr>\n",
       "      <th>3</th>\n",
       "      <td>1.153386e+08</td>\n",
       "    </tr>\n",
       "    <tr>\n",
       "      <th>4</th>\n",
       "      <td>6.975830e+07</td>\n",
       "    </tr>\n",
       "    <tr>\n",
       "      <th>...</th>\n",
       "      <td>...</td>\n",
       "    </tr>\n",
       "    <tr>\n",
       "      <th>195</th>\n",
       "      <td>1.086682e+06</td>\n",
       "    </tr>\n",
       "    <tr>\n",
       "      <th>196</th>\n",
       "      <td>1.122340e+06</td>\n",
       "    </tr>\n",
       "    <tr>\n",
       "      <th>197</th>\n",
       "      <td>1.128712e+06</td>\n",
       "    </tr>\n",
       "    <tr>\n",
       "      <th>198</th>\n",
       "      <td>9.013369e+05</td>\n",
       "    </tr>\n",
       "    <tr>\n",
       "      <th>199</th>\n",
       "      <td>1.014189e+06</td>\n",
       "    </tr>\n",
       "  </tbody>\n",
       "</table>\n",
       "<p>200 rows × 1 columns</p>\n",
       "</div>"
      ],
      "text/plain": [
       "     Hours Watched 2024\n",
       "0          2.843109e+08\n",
       "1          1.424622e+08\n",
       "2          1.152563e+08\n",
       "3          1.153386e+08\n",
       "4          6.975830e+07\n",
       "..                  ...\n",
       "195        1.086682e+06\n",
       "196        1.122340e+06\n",
       "197        1.128712e+06\n",
       "198        9.013369e+05\n",
       "199        1.014189e+06\n",
       "\n",
       "[200 rows x 1 columns]"
      ]
     },
     "execution_count": 92,
     "metadata": {},
     "output_type": "execute_result"
    }
   ],
   "source": [
    "prediccion_reg_2023= pd.DataFrame(prediccion_reg_df)\n",
    "prediccion_reg_2023.rename(columns={0:\"Hours Watched 2024\"},\n",
    "               inplace=True)\n",
    "prediccion_reg_2023"
   ]
  },
  {
   "cell_type": "code",
   "execution_count": 122,
   "metadata": {},
   "outputs": [],
   "source": [
    "df_enero=df_enero.reset_index()"
   ]
  },
  {
   "cell_type": "code",
   "execution_count": 123,
   "metadata": {},
   "outputs": [],
   "source": [
    "prediccion_enero=pd.concat([df_enero,prediccion_reg_2023],axis=1)"
   ]
  },
  {
   "cell_type": "code",
   "execution_count": 124,
   "metadata": {},
   "outputs": [],
   "source": [
    "prediccion_enero[\"Diferencia Hours Watched (%)\"]=((prediccion_enero[\"Hours Watched 2024\"]-prediccion_enero[\"Hours_watched\"])/prediccion_enero[\"Hours_watched\"])*100"
   ]
  },
  {
   "cell_type": "code",
   "execution_count": 131,
   "metadata": {},
   "outputs": [],
   "source": [
    "\n",
    "#prediccion_enero=prediccion_enero.reset_index()\n",
    "prediccion_enero=prediccion_enero.set_index(\"Game\")\n"
   ]
  },
  {
   "cell_type": "code",
   "execution_count": 132,
   "metadata": {},
   "outputs": [
    {
     "data": {
      "text/html": [
       "<div>\n",
       "<style scoped>\n",
       "    .dataframe tbody tr th:only-of-type {\n",
       "        vertical-align: middle;\n",
       "    }\n",
       "\n",
       "    .dataframe tbody tr th {\n",
       "        vertical-align: top;\n",
       "    }\n",
       "\n",
       "    .dataframe thead th {\n",
       "        text-align: right;\n",
       "    }\n",
       "</style>\n",
       "<table border=\"1\" class=\"dataframe\">\n",
       "  <thead>\n",
       "    <tr style=\"text-align: right;\">\n",
       "      <th></th>\n",
       "      <th>Hours_watched</th>\n",
       "      <th>Prediccion enero 2024:1 seguirá/0 no seguirá</th>\n",
       "      <th>Hours Watched 2024</th>\n",
       "      <th>Diferencia Hours Watched (%)</th>\n",
       "    </tr>\n",
       "    <tr>\n",
       "      <th>Game</th>\n",
       "      <th></th>\n",
       "      <th></th>\n",
       "      <th></th>\n",
       "      <th></th>\n",
       "    </tr>\n",
       "  </thead>\n",
       "  <tbody>\n",
       "    <tr>\n",
       "      <th>Just Chatting</th>\n",
       "      <td>264212906.0</td>\n",
       "      <td>1</td>\n",
       "      <td>2.843109e+08</td>\n",
       "      <td>7.606759</td>\n",
       "    </tr>\n",
       "    <tr>\n",
       "      <th>League of Legends</th>\n",
       "      <td>126494155.0</td>\n",
       "      <td>1</td>\n",
       "      <td>1.424622e+08</td>\n",
       "      <td>12.623525</td>\n",
       "    </tr>\n",
       "    <tr>\n",
       "      <th>Escape from Tarkov</th>\n",
       "      <td>113747925.0</td>\n",
       "      <td>1</td>\n",
       "      <td>1.152563e+08</td>\n",
       "      <td>1.326072</td>\n",
       "    </tr>\n",
       "    <tr>\n",
       "      <th>Grand Theft Auto V</th>\n",
       "      <td>111789032.0</td>\n",
       "      <td>1</td>\n",
       "      <td>1.153386e+08</td>\n",
       "      <td>3.175195</td>\n",
       "    </tr>\n",
       "    <tr>\n",
       "      <th>VALORANT</th>\n",
       "      <td>80943179.0</td>\n",
       "      <td>1</td>\n",
       "      <td>6.975830e+07</td>\n",
       "      <td>-13.818191</td>\n",
       "    </tr>\n",
       "    <tr>\n",
       "      <th>...</th>\n",
       "      <td>...</td>\n",
       "      <td>...</td>\n",
       "      <td>...</td>\n",
       "      <td>...</td>\n",
       "    </tr>\n",
       "    <tr>\n",
       "      <th>Tom Clancy's The Division 2</th>\n",
       "      <td>666943.0</td>\n",
       "      <td>1</td>\n",
       "      <td>1.086682e+06</td>\n",
       "      <td>62.934689</td>\n",
       "    </tr>\n",
       "    <tr>\n",
       "      <th>Persona 5 Royal</th>\n",
       "      <td>664503.0</td>\n",
       "      <td>1</td>\n",
       "      <td>1.122340e+06</td>\n",
       "      <td>68.899125</td>\n",
       "    </tr>\n",
       "    <tr>\n",
       "      <th>Bloodborne</th>\n",
       "      <td>663078.0</td>\n",
       "      <td>1</td>\n",
       "      <td>1.128712e+06</td>\n",
       "      <td>70.223149</td>\n",
       "    </tr>\n",
       "    <tr>\n",
       "      <th>PowerWash Simulator</th>\n",
       "      <td>657644.0</td>\n",
       "      <td>0</td>\n",
       "      <td>9.013369e+05</td>\n",
       "      <td>37.055440</td>\n",
       "    </tr>\n",
       "    <tr>\n",
       "      <th>Eternal Return</th>\n",
       "      <td>642217.0</td>\n",
       "      <td>1</td>\n",
       "      <td>1.014189e+06</td>\n",
       "      <td>57.920006</td>\n",
       "    </tr>\n",
       "  </tbody>\n",
       "</table>\n",
       "<p>200 rows × 4 columns</p>\n",
       "</div>"
      ],
      "text/plain": [
       "                             Hours_watched  \\\n",
       "Game                                         \n",
       "Just Chatting                  264212906.0   \n",
       "League of Legends              126494155.0   \n",
       "Escape from Tarkov             113747925.0   \n",
       "Grand Theft Auto V             111789032.0   \n",
       "VALORANT                        80943179.0   \n",
       "...                                    ...   \n",
       "Tom Clancy's The Division 2       666943.0   \n",
       "Persona 5 Royal                   664503.0   \n",
       "Bloodborne                        663078.0   \n",
       "PowerWash Simulator               657644.0   \n",
       "Eternal Return                    642217.0   \n",
       "\n",
       "                             Prediccion enero 2024:1 seguirá/0 no seguirá  \\\n",
       "Game                                                                        \n",
       "Just Chatting                                                           1   \n",
       "League of Legends                                                       1   \n",
       "Escape from Tarkov                                                      1   \n",
       "Grand Theft Auto V                                                      1   \n",
       "VALORANT                                                                1   \n",
       "...                                                                   ...   \n",
       "Tom Clancy's The Division 2                                             1   \n",
       "Persona 5 Royal                                                         1   \n",
       "Bloodborne                                                              1   \n",
       "PowerWash Simulator                                                     0   \n",
       "Eternal Return                                                          1   \n",
       "\n",
       "                             Hours Watched 2024  Diferencia Hours Watched (%)  \n",
       "Game                                                                           \n",
       "Just Chatting                      2.843109e+08                      7.606759  \n",
       "League of Legends                  1.424622e+08                     12.623525  \n",
       "Escape from Tarkov                 1.152563e+08                      1.326072  \n",
       "Grand Theft Auto V                 1.153386e+08                      3.175195  \n",
       "VALORANT                           6.975830e+07                    -13.818191  \n",
       "...                                         ...                           ...  \n",
       "Tom Clancy's The Division 2        1.086682e+06                     62.934689  \n",
       "Persona 5 Royal                    1.122340e+06                     68.899125  \n",
       "Bloodborne                         1.128712e+06                     70.223149  \n",
       "PowerWash Simulator                9.013369e+05                     37.055440  \n",
       "Eternal Return                     1.014189e+06                     57.920006  \n",
       "\n",
       "[200 rows x 4 columns]"
      ]
     },
     "execution_count": 132,
     "metadata": {},
     "output_type": "execute_result"
    }
   ],
   "source": [
    "prediccion_enero"
   ]
  },
  {
   "cell_type": "code",
   "execution_count": 133,
   "metadata": {},
   "outputs": [],
   "source": [
    "prediccion_enero['Hours_watched'] = prediccion_enero['Hours_watched'].astype(float)\n",
    "prediccion_enero['Hours Watched 2024'] = prediccion_enero['Hours Watched 2024'].astype(float)\n",
    "prediccion_enero['Diferencia Hours Watched (%)'] = prediccion_enero['Diferencia Hours Watched (%)'].astype(float)"
   ]
  },
  {
   "cell_type": "code",
   "execution_count": 105,
   "metadata": {},
   "outputs": [],
   "source": [
    "prediccion_enero.to_csv(\"CSV/Prediccion enero 2024.csv\", sep=\",\", index = True)"
   ]
  },
  {
   "cell_type": "code",
   "execution_count": 134,
   "metadata": {},
   "outputs": [
    {
     "data": {
      "text/html": [
       "<div>\n",
       "<style scoped>\n",
       "    .dataframe tbody tr th:only-of-type {\n",
       "        vertical-align: middle;\n",
       "    }\n",
       "\n",
       "    .dataframe tbody tr th {\n",
       "        vertical-align: top;\n",
       "    }\n",
       "\n",
       "    .dataframe thead th {\n",
       "        text-align: right;\n",
       "    }\n",
       "</style>\n",
       "<table border=\"1\" class=\"dataframe\">\n",
       "  <thead>\n",
       "    <tr style=\"text-align: right;\">\n",
       "      <th></th>\n",
       "      <th>Diferencia Hours Watched (%)</th>\n",
       "    </tr>\n",
       "    <tr>\n",
       "      <th>Game</th>\n",
       "      <th></th>\n",
       "    </tr>\n",
       "  </thead>\n",
       "  <tbody>\n",
       "    <tr>\n",
       "      <th>F1 22</th>\n",
       "      <td>1608.016934</td>\n",
       "    </tr>\n",
       "    <tr>\n",
       "      <th>Hunt: Showdown</th>\n",
       "      <td>1058.042045</td>\n",
       "    </tr>\n",
       "    <tr>\n",
       "      <th>Ark: Survival Evolved</th>\n",
       "      <td>711.528188</td>\n",
       "    </tr>\n",
       "    <tr>\n",
       "      <th>Phasmophobia</th>\n",
       "      <td>504.540777</td>\n",
       "    </tr>\n",
       "    <tr>\n",
       "      <th>Red Dead Redemption 2</th>\n",
       "      <td>415.311183</td>\n",
       "    </tr>\n",
       "    <tr>\n",
       "      <th>Monster Hunter Rise</th>\n",
       "      <td>384.149497</td>\n",
       "    </tr>\n",
       "    <tr>\n",
       "      <th>Dark Souls II</th>\n",
       "      <td>353.118401</td>\n",
       "    </tr>\n",
       "    <tr>\n",
       "      <th>Hi-Fi Rush</th>\n",
       "      <td>340.766045</td>\n",
       "    </tr>\n",
       "    <tr>\n",
       "      <th>Mobile Legends: Bang Bang</th>\n",
       "      <td>295.115030</td>\n",
       "    </tr>\n",
       "    <tr>\n",
       "      <th>Terraria</th>\n",
       "      <td>254.414396</td>\n",
       "    </tr>\n",
       "    <tr>\n",
       "      <th>PokÃ©mon Scarlet/Violet</th>\n",
       "      <td>246.488252</td>\n",
       "    </tr>\n",
       "    <tr>\n",
       "      <th>Splatoon 3</th>\n",
       "      <td>220.006220</td>\n",
       "    </tr>\n",
       "    <tr>\n",
       "      <th>Talk Shows &amp; Podcasts</th>\n",
       "      <td>213.669513</td>\n",
       "    </tr>\n",
       "    <tr>\n",
       "      <th>PUBG Mobile</th>\n",
       "      <td>200.648612</td>\n",
       "    </tr>\n",
       "    <tr>\n",
       "      <th>One Piece Odyssey</th>\n",
       "      <td>177.663398</td>\n",
       "    </tr>\n",
       "  </tbody>\n",
       "</table>\n",
       "</div>"
      ],
      "text/plain": [
       "                           Diferencia Hours Watched (%)\n",
       "Game                                                   \n",
       "F1 22                                       1608.016934\n",
       "Hunt: Showdown                              1058.042045\n",
       "Ark: Survival Evolved                        711.528188\n",
       "Phasmophobia                                 504.540777\n",
       "Red Dead Redemption 2                        415.311183\n",
       "Monster Hunter Rise                          384.149497\n",
       "Dark Souls II                                353.118401\n",
       "Hi-Fi Rush                                   340.766045\n",
       "Mobile Legends: Bang Bang                    295.115030\n",
       "Terraria                                     254.414396\n",
       "PokÃ©mon Scarlet/Violet                      246.488252\n",
       "Splatoon 3                                   220.006220\n",
       "Talk Shows & Podcasts                        213.669513\n",
       "PUBG Mobile                                  200.648612\n",
       "One Piece Odyssey                            177.663398"
      ]
     },
     "execution_count": 134,
     "metadata": {},
     "output_type": "execute_result"
    }
   ],
   "source": [
    "juegos_mas_crecimiento=prediccion_enero['Diferencia Hours Watched (%)'].sort_values(ascending=False).head(15)\n",
    "juegos_mas_crecimiento= pd.DataFrame(juegos_mas_crecimiento)\n",
    "#juegos_mas_crecimiento=juegos_mas_crecimiento.reset_index()\n",
    "juegos_mas_crecimiento\n"
   ]
  },
  {
   "cell_type": "code",
   "execution_count": 135,
   "metadata": {},
   "outputs": [],
   "source": [
    "juegos_mas_crecimiento.to_csv(\"CSV/Juegos con mayor crecimiento.csv\", sep=\",\", index = True)"
   ]
  }
 ],
 "metadata": {
  "kernelspec": {
   "display_name": "Python 3",
   "language": "python",
   "name": "python3"
  },
  "language_info": {
   "codemirror_mode": {
    "name": "ipython",
    "version": 3
   },
   "file_extension": ".py",
   "mimetype": "text/x-python",
   "name": "python",
   "nbconvert_exporter": "python",
   "pygments_lexer": "ipython3",
   "version": "3.7.4"
  },
  "orig_nbformat": 4
 },
 "nbformat": 4,
 "nbformat_minor": 2
}
